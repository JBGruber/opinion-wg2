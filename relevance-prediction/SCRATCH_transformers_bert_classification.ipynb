{
 "cells": [
  {
   "cell_type": "markdown",
   "metadata": {
    "id": "URKn8K0HydhV"
   },
   "source": [
    "# Training and Fine-Tuning BERT for Classification\n",
    "## Classfying newspaper articles by topic\n",
    "\n",
    "This notebook will demonstrate how users can train and fine-tune a BERT model for classification with the popular HuggingFace `transformers` Python library.\n",
    "\n",
    "We will fine-tune a BERT model on news topics discussed [here](https://www.tandfonline.com/doi/full/10.1080/21670811.2020.1767509) with the goal of predicting the topic of a news article. The genres include:\n",
    "\n",
    "-   'business'\n",
    "-   'entertainment'\n",
    "-   'politics'\n",
    "-   'other'\n",
    "\n",
    "Please download the data from the [bdaca github](https://github.com/uvacw/teaching-bdaca/tree/main/modules/machinelearning-text-exercises)\n",
    "\n",
    "**Basic steps involved in using BERT and HuggingFace:**\n",
    "- Split your dataset into training, validation, and testing subsets.\n",
    "- Convert your data into a format that BERT can process.\n",
    "- Create dataset objects by joining your data and labels.\n",
    "- Load the pre-trained BERT model.\n",
    "- Refine the model by training it on your training data.\n",
    "- Use the model to make predictions and assess its performance on your test data.\n",
    "\n",
    "\n",
    "_This notebook is heavily inspired by Herties BERT for humanities tutorial_"
   ]
  },
  {
   "cell_type": "markdown",
   "metadata": {
    "id": "y73xWUkpU1AC"
   },
   "source": [
    "<br><br>\n",
    "\n",
    "## **Import necessary Python libraries and modules**"
   ]
  },
  {
   "cell_type": "code",
   "execution_count": 1,
   "metadata": {
    "executionInfo": {
     "elapsed": 428,
     "status": "ok",
     "timestamp": 1718101953907,
     "user": {
      "displayName": "Damian Trilling",
      "userId": "04714671769922729078"
     },
     "user_tz": -120
    },
    "id": "BNxmMnzoccfm"
   },
   "outputs": [],
   "source": [
    "#!pip3 install torch"
   ]
  },
  {
   "cell_type": "markdown",
   "metadata": {
    "id": "BJ9kmfrO3M_w"
   },
   "source": [
    "Next, we will import necessary Python libraries and modules."
   ]
  },
  {
   "cell_type": "code",
   "execution_count": 2,
   "metadata": {
    "executionInfo": {
     "elapsed": 13670,
     "status": "ok",
     "timestamp": 1718101968056,
     "user": {
      "displayName": "Damian Trilling",
      "userId": "04714671769922729078"
     },
     "user_tz": -120
    },
    "id": "x9Si6kIWcULv"
   },
   "outputs": [],
   "source": [
    "import gzip\n",
    "import json\n",
    "import pickle\n",
    "import random\n",
    "import sys\n",
    "import csv\n",
    "import numpy as np\n",
    "import pandas as pd\n",
    "import seaborn as sns\n",
    "from matplotlib import ticker\n",
    "from sklearn import metrics\n",
    "from sklearn.feature_extraction.text import CountVectorizer, TfidfVectorizer\n",
    "from sklearn.linear_model import LogisticRegression\n",
    "from sklearn.metrics import accuracy_score, precision_recall_fscore_support, classification_report\n",
    "from sklearn.model_selection import train_test_split\n",
    "from sklearn.naive_bayes import MultinomialNB\n",
    "from sklearn.svm import SVC\n",
    "import torch\n",
    "from transformers import Trainer, TrainingArguments\n",
    "from sklearn.metrics import f1_score\n",
    "\n",
    "from collections import defaultdict\n",
    "\n",
    "sns.set(style='ticks', font_scale=1.2)\n",
    "%matplotlib inline\n",
    "import matplotlib.pyplot as plt\n",
    "\n",
    "from sklearn.utils import compute_sample_weight"
   ]
  },
  {
   "cell_type": "code",
   "execution_count": 3,
   "metadata": {
    "colab": {
     "base_uri": "https://localhost:8080/"
    },
    "executionInfo": {
     "elapsed": 2167,
     "status": "ok",
     "timestamp": 1718101970215,
     "user": {
      "displayName": "Damian Trilling",
      "userId": "04714671769922729078"
     },
     "user_tz": -120
    },
    "id": "msJnMk4K1BYB",
    "outputId": "70178670-2065-4ff3-dd96-f3ab30e3bbc8"
   },
   "outputs": [
    {
     "name": "stdout",
     "output_type": "stream",
     "text": [
      "Drive already mounted at /content/drive; to attempt to forcibly remount, call drive.mount(\"/content/drive\", force_remount=True).\n",
      " 2020_eScience_Center_Application_Form_Pre-Proposal_ASDI.docx\n",
      "\"Aanvraag 'Verantwoordelijke Waardecreatie'.gdoc\"\n",
      " abstract-draft.gdoc\n",
      "'Abstract Social data science.gdoc'\n",
      "'Academische Werkplaats.gslides'\n",
      "'Agenda Notulen Heidag Onderzoek.gdoc'\n",
      "'Amcat4 design.gdraw'\n",
      "'AmCAT 4 - Functional and Technical Design.gdoc'\n",
      "'Amsterdam 02-2015'\n",
      " application_template_phds_in_the_humanities_2024_0_ilse.docx\n",
      "'Article features'\n",
      "'A theory of news sharing.gdoc'\n",
      " BERT-mexico-5classes\n",
      " BERT-mexico-politics-vs-rest\n",
      " BERT-mexico-sports-vs-rest\n",
      "'Book proposal: Computational Social Science.gdoc'\n",
      "'breakout room large-scale data collection and infrastructure.gdoc'\n",
      "'Briefing Motivaction.gdoc'\n",
      "'budget draft erik damian fb.gsheet'\n",
      "'Case Studies.gsheet'\n",
      " CCR_Journal\n",
      " CCR-slide.gslides\n",
      "'CCS Book Corrections.gsheet'\n",
      " Cleaned_Speeches\n",
      "'Colab Notebooks'\n",
      "'Computational textbook'\n",
      " Computational_turn_ASCoR-boek.gdoc\n",
      "'Copy of Features Pool.gdoc'\n",
      "'Copy of Official TimelineJS3 Template.gsheet'\n",
      "'Copy of Student Submission Slide Template - Example Final Presentation.gslides'\n",
      " CoRec_damian.gslides\n",
      "'COST meeting 27 januari Amsterdam - WG planning .gdoc'\n",
      "'COST WG2 Amsterdam meeting.gslides'\n",
      "'css-summerschool student folder'\n",
      " damian.jpg\n",
      " datajournalism\n",
      "'Defense Erik de Vries.gslides'\n",
      " Digital-Journalism-Response-letter-OW-.docx\n",
      " Digital-Journalism-Response-letter-OW-.gdoc\n",
      " DigitalSociety\n",
      "'Digital Society - Plans and Ideas.gdoc'\n",
      "'DJ R&R.gdoc'\n",
      " DSI-GSC-healthcom.gjam\n",
      " DSI-GSC-polcom.gjam\n",
      " DSI-GSC-scriptiecoordinatoren.gjam\n",
      "'EDMO PILOT GROUP IIB ARTICLE 40 DSA_RESEARCHERS EXPERIENCE.gdoc'\n",
      "'Erik and Damian’s first conjoint experiment on shareworthiness.gdoc'\n",
      " eScienceFullProposalASDI.gdoc\n",
      "'escience scratch.gdoc'\n",
      " etmaal2014-abstract-backup.gdoc\n",
      " etmaal2014-abstract.gdoc\n",
      " Etmaal-panel.gdoc\n",
      "'EU Combatting Hate Speech.gdoc'\n",
      "'EXPERT MEETINGBridging Social Sciences & ComputationalMethods to Develop a New Content-BasedMedia Effects Paradigm.gslides'\n",
      " Facebook-Proposal.gdoc\n",
      "'Feedbackmomenten BA-scripties.gdoc'\n",
      " flowsymposium_damian.gslides\n",
      " FormA_Abstract_and_ethical-selfassessment.gdoc\n",
      "\"Foto's rietzangerweg\"\n",
      "'Free But Tame 11-with title page-revision1.gdoc'\n",
      " genodigden_damian.gsheet\n",
      "'Group assignment.gsheet'\n",
      " group_project_1.pdf\n",
      " group_project_2.pdf\n",
      "'hashtag-zwartepiet (1).csv'\n",
      " hashtag-zwartepiet.csv\n",
      " IAS\n",
      " ica-perso.docx.gdoc\n",
      "'Introday PCJ_final.pptx'\n",
      " iris.csv\n",
      "'JEDS - into the filter bubble'\n",
      "'Je grote idee.gslides'\n",
      "'laudatio susan.gdoc'\n",
      " lecture_damian.pdf\n",
      " manual_annotations_sample.csv\n",
      "'Masterintroductie PolCom.gslides'\n",
      " meeting_saved_chat.txt\n",
      " MMGA-project\n",
      "'My thesis in a tweet.gdoc'\n",
      "'Naamloos document.gdoc'\n",
      "'NEWSREC workshop participants 2023-01-31 - 2023-02-01.gsheet'\n",
      "'Onderzoeksvoorstel SvdJ_CvdM_UvA.gdoc'\n",
      "'PhD project proposal form.docx'\n",
      " pilot-presentatie.gslides\n",
      "'pitch voetsporen op locatie.gdoc'\n",
      "'Project planning.gsheet'\n",
      "'Proposal form QA(2).xlsx'\n",
      "'Proposal Guidelines - Updated.doc'\n",
      "'Proposal Guidelines - Updated.doc.gdoc'\n",
      " REFERENCES.gdoc\n",
      " revision\n",
      "'revision notes CMM.gdoc'\n",
      "'revision notes IJOC azade.gdoc'\n",
      "'Revision Notes JQD.gdoc'\n",
      "'richtijnen beoordeling compuational mturk scripties.gdoc'\n",
      "'RPA budget application Felicia Study2.gdoc'\n",
      "'r&r mediahuis paper journalism studies.gdoc'\n",
      " r-r_validation.ipynb\n",
      " SALAMANCA-TEST\n",
      "'Schermafdruk van 2023-11-09 17-53-38.png'\n",
      "'Schermafdruk van 2023-11-09 17-55-00.png'\n",
      " SCRATCH_VRAGEN_NL.gdoc\n",
      " SHARENEWS-Meeting.gdoc\n",
      "'Sharenews R&R JQD.gdoc'\n",
      "'Stichting CCS.amsterdam'\n",
      "'Student Submission Slide Template - Example Final Presentation.gslides'\n",
      " svdj-dl\n",
      "'Tekstkenmerken en het delen van nieuws op Facebook.gslides'\n",
      "'The Challenge of Simultaneously Studying the Effect of Content, Context, and User Features on News Sharing.gslides'\n",
      " thumbnail_IMG_20210609_192525598_HDR.jpg\n",
      " thumbnail_IMG_20210609_192556130.jpg\n",
      "'Tpl_Application Form (Part B) (HE RIA and IA).rtf'\n",
      " train_test\n",
      " train_test_splits_for_BERT\n",
      " transformers_bert_classification.ipynb\n",
      " TWON\n",
      "'Untitled document (1).gdoc'\n",
      "'Untitled document.gdoc'\n",
      "'Unused items (Dutch).gdoc'\n",
      "'Voorstel ESM-Studie Michael, Damian, Lina et al.gdoc'\n",
      "'vragen sollicitatiegesprekken postdocs.gdoc'\n",
      "\"vragen sollicitiatiegesprekken aio's ERC.gdoc\"\n",
      "'VU PolCom Meeting 2024-04-05.gslides'\n",
      "'VWO-presentatie 9 feb.gslides'\n",
      "'website journalim studies VU.gdoc'\n",
      " Whatsapp2.gdoc\n",
      " Whatsapp-proposal.gdoc\n",
      "'zwartepietnetworkedges (1).csv'\n",
      " zwartepietnetworkedges.csv\n"
     ]
    }
   ],
   "source": [
    "from google.colab import drive\n",
    "drive.mount('/content/drive')\n",
    "!ls /content/drive/MyDrive"
   ]
  },
  {
   "cell_type": "markdown",
   "metadata": {
    "id": "RUiusuxo05yn"
   },
   "source": [
    "<br><br>\n",
    "\n",
    "## **Read in data, and split into Train-Val-Test (60-20-20) samples**\n",
    "\n",
    "\n",
    "This will read in the annotated newspaper data from Vermeer et al., and split it into train, val and test samples.\n"
   ]
  },
  {
   "cell_type": "code",
   "execution_count": 4,
   "metadata": {
    "executionInfo": {
     "elapsed": 32,
     "status": "ok",
     "timestamp": 1718101970216,
     "user": {
      "displayName": "Damian Trilling",
      "userId": "04714671769922729078"
     },
     "user_tz": -120
    },
    "id": "dpDBbyOz05yp"
   },
   "outputs": [],
   "source": [
    "\n",
    "csv.field_size_limit(sys.maxsize)\n",
    "\n",
    "def get_labeled_data(fn='labeled.csv',textcol=0, labelcol=1):\n",
    "    text= []\n",
    "    label= []\n",
    "\n",
    "    with open(fn) as fi:\n",
    "        next(fi)\n",
    "        reader = csv.reader(fi, delimiter=',')\n",
    "        for row in reader:\n",
    "            try:\n",
    "                text.append(row[textcol])\n",
    "                label.append(row[labelcol])\n",
    "            except:\n",
    "                # invalid row, probably an empty one. let's just ignore\n",
    "                pass\n",
    "    return text, label\n",
    "\n",
    "texts, labels = get_labeled_data('/content/drive/MyDrive/manual_annotations_sample.csv', textcol=6, labelcol=7)\n",
    "\n",
    "\n",
    "# Split your data into training and test sets\n",
    "X_train_val, X_test, y_train_val, y_test = train_test_split(texts, labels, test_size=0.2, random_state=42)\n",
    "\n",
    "# Split your training data into training and validation sets\n",
    "X_train, X_val, y_train, y_val = train_test_split(X_train_val, y_train_val, test_size=0.25, random_state=42)"
   ]
  },
  {
   "cell_type": "code",
   "execution_count": 5,
   "metadata": {
    "colab": {
     "base_uri": "https://localhost:8080/"
    },
    "executionInfo": {
     "elapsed": 31,
     "status": "ok",
     "timestamp": 1718101970217,
     "user": {
      "displayName": "Damian Trilling",
      "userId": "04714671769922729078"
     },
     "user_tz": -120
    },
    "id": "9Ww-uCB705yq",
    "outputId": "f8854992-cdce-4312-c347-78a46a2f3215"
   },
   "outputs": [
    {
     "name": "stdout",
     "output_type": "stream",
     "text": [
      "We have 600 train examples, 201 validation examples, and 201 test examples.\n"
     ]
    }
   ],
   "source": [
    "print(f\"We have {len(X_train)} train examples, {len(X_val)} validation examples, and {len(X_test)} test examples.\")"
   ]
  },
  {
   "cell_type": "code",
   "execution_count": 6,
   "metadata": {
    "executionInfo": {
     "elapsed": 20,
     "status": "ok",
     "timestamp": 1718101970217,
     "user": {
      "displayName": "Damian Trilling",
      "userId": "04714671769922729078"
     },
     "user_tz": -120
    },
    "id": "piWsW9ZeaP_D"
   },
   "outputs": [],
   "source": [
    "#We will be using a Dutch model, as our data is Dutch-- specifically the '\"GroNLP/bert-base-dutch-cased\"' model. Check out Hugging Face's documentation for more information on the different BERT models.\n",
    "model_name = 'bert-base-cased'\n",
    "\n",
    "# We'll run our code on NVIDIA GPUs using the program management system.\n",
    "device_name = 'cuda'\n",
    "#device_name='cpu'\n",
    "\n",
    "# We set the maximum number of tokens in each document to be 512, which is the maximum length for BERT models.\n",
    "max_length = 512\n",
    "\n",
    "# We define the directory where we'll save our trained model. You can choose any name for the directory.\n",
    "save_directory = 'my_trained_model'"
   ]
  },
  {
   "cell_type": "markdown",
   "metadata": {
    "id": "O-34oep8LNKw"
   },
   "source": [
    "Here's an example of a training text and training label:"
   ]
  },
  {
   "cell_type": "code",
   "execution_count": 7,
   "metadata": {
    "colab": {
     "base_uri": "https://localhost:8080/"
    },
    "executionInfo": {
     "elapsed": 19,
     "status": "ok",
     "timestamp": 1718101970218,
     "user": {
      "displayName": "Damian Trilling",
      "userId": "04714671769922729078"
     },
     "user_tz": -120
    },
    "id": "dcxvqUsdf5Sm",
    "outputId": "c30c31f6-1439-45cc-8d42-e62c30661e42"
   },
   "outputs": [
    {
     "data": {
      "text/plain": [
       "('Automatic deception detection is a crucial task that has many applications both in direct physical and in computer-mediated human communication. Our focus is on automatic deception detection in text across cultures. In this context, we view culture through the prism of the individualism/collectivism dimension, and we approximate culture by using country as a proxy. Having as a starting point recent conclusions drawn from the social psychology discipline, we explore if differences in the usage of specific linguistic features of deception across cultures can be confirmed and attributed to cultural norms in respect to the individualism/collectivism divide. In addition, we investigate if a universal feature set for cross-cultural text deception detection tasks exists. We evaluate the predictive power of different feature sets and approaches. We create culture/language-aware classifiers by experimenting with a wide range of n-gram features from several levels of linguistic analysis, namely phonology, morphology and syntax, other linguistic cues like word and phoneme counts, pronouns use, etc., and token embeddings. We conducted our experiments over eleven data sets from five languages (English, Dutch, Russian, Spanish, and Romanian), from six countries (United States of America, Belgium, India, Russia, Mexico, and Romania), and we applied two classification methods, namely logistic regression and fine-tuned BERT models. The results showed that the undertaken task is fairly complex and demanding. Furthermore, there are indications that some linguistic cues of deception have cultural origins and are consistent in the context of diverse domains and data set settings for the same language. This is more evident for the usage of pronouns and the expression of sentiment in deceptive language. The results of this work show that the automatic deception detection across cultures and languages cannot be handled in unified manners and that such approaches should be augmented with knowledge about cultural differences and the domains of interest.',\n",
       " '0')"
      ]
     },
     "execution_count": 7,
     "metadata": {},
     "output_type": "execute_result"
    }
   ],
   "source": [
    "X_train[0], y_train[0]"
   ]
  },
  {
   "cell_type": "markdown",
   "metadata": {
    "id": "0FoaXKbKjXRX"
   },
   "source": [
    "<br><br>\n",
    "\n",
    "## **Implementing a Baseline Model using Logistic Regression**\n",
    "\n",
    "In this step, we train and evaluate a basic TF-IDF baseline model with logistic regression. Despite using a very small dataset, we observe a performance that is better than random. We will now check if BERT can outperform this strong baseline!"
   ]
  },
  {
   "cell_type": "code",
   "execution_count": 8,
   "metadata": {
    "executionInfo": {
     "elapsed": 442,
     "status": "ok",
     "timestamp": 1718101970650,
     "user": {
      "displayName": "Damian Trilling",
      "userId": "04714671769922729078"
     },
     "user_tz": -120
    },
    "id": "RBTyTh8Ui2D3"
   },
   "outputs": [],
   "source": [
    "vectorizer = TfidfVectorizer()\n",
    "Xtrain = vectorizer.fit_transform(X_train)\n",
    "Xtest = vectorizer.transform(X_test)"
   ]
  },
  {
   "cell_type": "markdown",
   "metadata": {
    "id": "gMjmweu6MIQU"
   },
   "source": [
    "We train a logistic regression model from scikit-learn on the newspaper training data, and then we use the trained model to make predictions on our test set."
   ]
  },
  {
   "cell_type": "code",
   "execution_count": 9,
   "metadata": {
    "executionInfo": {
     "elapsed": 392,
     "status": "ok",
     "timestamp": 1718101971012,
     "user": {
      "displayName": "Damian Trilling",
      "userId": "04714671769922729078"
     },
     "user_tz": -120
    },
    "id": "R92S7JZfjiaC"
   },
   "outputs": [],
   "source": [
    "model = LogisticRegression(max_iter=1000).fit(Xtrain, y_train)\n",
    "predictions = model.predict(Xtest)"
   ]
  },
  {
   "cell_type": "markdown",
   "metadata": {
    "id": "s6YmW7WZMhh3"
   },
   "source": [
    "We can leverage the `classification_report` function provided by scikit-learn to assess the performance of the logistic regression model in terms of its ability to predict newspaper topics that match the actual labels."
   ]
  },
  {
   "cell_type": "code",
   "execution_count": 10,
   "metadata": {
    "colab": {
     "base_uri": "https://localhost:8080/"
    },
    "executionInfo": {
     "elapsed": 10,
     "status": "ok",
     "timestamp": 1718101971013,
     "user": {
      "displayName": "Damian Trilling",
      "userId": "04714671769922729078"
     },
     "user_tz": -120
    },
    "id": "UeJd8ogKjpg0",
    "outputId": "24decb72-9971-4b09-f5f7-dabfeba341de"
   },
   "outputs": [
    {
     "name": "stdout",
     "output_type": "stream",
     "text": [
      "              precision    recall  f1-score   support\n",
      "\n",
      "           0       0.75      0.56      0.64        80\n",
      "           1       0.75      0.88      0.81       121\n",
      "\n",
      "    accuracy                           0.75       201\n",
      "   macro avg       0.75      0.72      0.73       201\n",
      "weighted avg       0.75      0.75      0.74       201\n",
      "\n"
     ]
    }
   ],
   "source": [
    "from sklearn.metrics import classification_report\n",
    "print(classification_report(y_test, predictions))"
   ]
  },
  {
   "cell_type": "markdown",
   "metadata": {
    "id": "ww-0fCN_05y4"
   },
   "source": [
    "What do you think of this model? Not too bad for a baseline model, right? Lets see whether we can improve this using BERT."
   ]
  },
  {
   "cell_type": "markdown",
   "metadata": {
    "id": "Aow3FPpppZVE"
   },
   "source": [
    "## Encode data for BERT\n",
    "\n",
    "To prepare our data for use with BERT, we need to encode the texts and labels in a way that the model can understand. Here are the steps we'll follow:\n",
    "\n",
    "1. Convert the labels from strings to integers.\n",
    "\n",
    "2. Tokenize the texts, which involves breaking them up into individual words, and then convert the words into \"word pieces\" that can be matched with their corresponding embedding vectors.\n",
    "\n",
    "3. Truncate texts that are longer than 512 tokens, or pad texts that are shorter than 512 tokens with a special padding token.\n",
    "\n",
    "4. Add special tokens to the beginning and end of each document, including a start token, a separator between sentences, and a padding token as necessary.\n"
   ]
  },
  {
   "cell_type": "markdown",
   "metadata": {
    "id": "GRs0dEIoUZtV"
   },
   "source": [
    "We will be using the `AutoTokenizer.from_pretrained()` module from HuggingFace library to encode our texts. This module will handle all the encoding for us, including breaking word tokens into word pieces, truncating to 512 tokens, and adding padding and special BERT tokens."
   ]
  },
  {
   "cell_type": "code",
   "execution_count": 11,
   "metadata": {
    "colab": {
     "base_uri": "https://localhost:8080/"
    },
    "executionInfo": {
     "elapsed": 2081,
     "status": "ok",
     "timestamp": 1718101973087,
     "user": {
      "displayName": "Damian Trilling",
      "userId": "04714671769922729078"
     },
     "user_tz": -120
    },
    "id": "9BEvRqpGVMUD",
    "outputId": "dae4d3e3-fc3c-4bba-8496-d9f80a0a778c"
   },
   "outputs": [
    {
     "name": "stderr",
     "output_type": "stream",
     "text": [
      "/usr/local/lib/python3.10/dist-packages/huggingface_hub/utils/_token.py:89: UserWarning: \n",
      "The secret `HF_TOKEN` does not exist in your Colab secrets.\n",
      "To authenticate with the Hugging Face Hub, create a token in your settings tab (https://huggingface.co/settings/tokens), set it as secret in your Google Colab and restart your session.\n",
      "You will be able to reuse this secret in all of your notebooks.\n",
      "Please note that authentication is recommended but still optional to access public models or datasets.\n",
      "  warnings.warn(\n"
     ]
    }
   ],
   "source": [
    "from transformers import AutoTokenizer\n",
    "\n",
    "tokenizer = AutoTokenizer.from_pretrained(model_name)\n",
    "#model = RobertaForSequenceClassification.from_pretrained(\"pdelobelle/robbert-v2-dutch-base\")"
   ]
  },
  {
   "cell_type": "markdown",
   "metadata": {
    "id": "oj8X7B30UvSj"
   },
   "source": [
    "In this section, we will generate a mapping of our news topics to integer keys. We begin by extracting the unique labels from our dataset and create a dictionary that associates each label with an integer."
   ]
  },
  {
   "cell_type": "code",
   "execution_count": 12,
   "metadata": {
    "executionInfo": {
     "elapsed": 36,
     "status": "ok",
     "timestamp": 1718101973087,
     "user": {
      "displayName": "Damian Trilling",
      "userId": "04714671769922729078"
     },
     "user_tz": -120
    },
    "id": "tSuo8gktjsVR"
   },
   "outputs": [],
   "source": [
    "unique_labels = set(label for label in y_train)\n",
    "label2id = {label: id for id, label in enumerate(unique_labels)}\n",
    "id2label = {id: label for label, id in label2id.items()}"
   ]
  },
  {
   "cell_type": "code",
   "execution_count": 13,
   "metadata": {
    "colab": {
     "base_uri": "https://localhost:8080/"
    },
    "executionInfo": {
     "elapsed": 34,
     "status": "ok",
     "timestamp": 1718101973087,
     "user": {
      "displayName": "Damian Trilling",
      "userId": "04714671769922729078"
     },
     "user_tz": -120
    },
    "id": "M_iAWMtBpfhj",
    "outputId": "1357ab67-db35-4452-b987-e8bfabbfe4fa"
   },
   "outputs": [
    {
     "data": {
      "text/plain": [
       "dict_keys(['1', '0'])"
      ]
     },
     "execution_count": 13,
     "metadata": {},
     "output_type": "execute_result"
    }
   ],
   "source": [
    "label2id.keys()"
   ]
  },
  {
   "cell_type": "code",
   "execution_count": 14,
   "metadata": {
    "colab": {
     "base_uri": "https://localhost:8080/"
    },
    "executionInfo": {
     "elapsed": 24,
     "status": "ok",
     "timestamp": 1718101973087,
     "user": {
      "displayName": "Damian Trilling",
      "userId": "04714671769922729078"
     },
     "user_tz": -120
    },
    "id": "vle8EgkelwRa",
    "outputId": "2d2ce292-9ebc-48aa-d9b5-a19978f7585c"
   },
   "outputs": [
    {
     "data": {
      "text/plain": [
       "dict_keys([0, 1])"
      ]
     },
     "execution_count": 14,
     "metadata": {},
     "output_type": "execute_result"
    }
   ],
   "source": [
    "id2label.keys()"
   ]
  },
  {
   "cell_type": "markdown",
   "metadata": {
    "id": "EraNFBC8VnPu"
   },
   "source": [
    "Now let's encode our texts and labels!"
   ]
  },
  {
   "cell_type": "code",
   "execution_count": 15,
   "metadata": {
    "executionInfo": {
     "elapsed": 2497,
     "status": "ok",
     "timestamp": 1718101975571,
     "user": {
      "displayName": "Damian Trilling",
      "userId": "04714671769922729078"
     },
     "user_tz": -120
    },
    "id": "uDuGq_n4pgZX"
   },
   "outputs": [],
   "source": [
    "train_encodings = tokenizer(X_train, truncation=True, padding=True, max_length=max_length)\n",
    "val_encodings = tokenizer(X_val, truncation=True, padding=True, max_length=max_length)\n",
    "test_encodings  = tokenizer(X_test, truncation=True, padding=True, max_length=max_length)\n",
    "\n",
    "train_labels_encoded = [label2id[y] for y in y_train]\n",
    "val_labels_encoded = [label2id[y] for y in y_val]\n",
    "test_labels_encoded  = [label2id[y] for y in y_test]"
   ]
  },
  {
   "cell_type": "markdown",
   "metadata": {
    "id": "7X1sYEGsWDDh"
   },
   "source": [
    "**Examine a news article in the training set after encoding**"
   ]
  },
  {
   "cell_type": "code",
   "execution_count": 16,
   "metadata": {
    "colab": {
     "base_uri": "https://localhost:8080/",
     "height": 122
    },
    "executionInfo": {
     "elapsed": 70,
     "status": "ok",
     "timestamp": 1718101975573,
     "user": {
      "displayName": "Damian Trilling",
      "userId": "04714671769922729078"
     },
     "user_tz": -120
    },
    "id": "4A89SN_ppiUP",
    "outputId": "f57dc237-36d5-4949-9fc0-897639a5eeee"
   },
   "outputs": [
    {
     "data": {
      "application/vnd.google.colaboratory.intrinsic+json": {
       "type": "string"
      },
      "text/plain": [
       "'[CLS] Automatic deception detection is a crucial task that has many applications both in direct physical and in computer - mediated human communication . Our focus is on automatic deception detection in text across cultures . In this context , we view culture through the p ##rism of the individual ##ism / collect ##ivism dimension , and we approximate culture by using country as a pro ##xy . Having as a starting point recent conclusions drawn from the social psychology discipline , we explore if differences in the usage of specific linguistic features of deception across cultures can be confirmed'"
      ]
     },
     "execution_count": 16,
     "metadata": {},
     "output_type": "execute_result"
    }
   ],
   "source": [
    "' '.join(train_encodings[0].tokens[0:100])"
   ]
  },
  {
   "cell_type": "markdown",
   "metadata": {
    "id": "3hvOn9RGWUMm"
   },
   "source": [
    "**Examine a news article in test set after encoding**"
   ]
  },
  {
   "cell_type": "code",
   "execution_count": 17,
   "metadata": {
    "colab": {
     "base_uri": "https://localhost:8080/",
     "height": 122
    },
    "executionInfo": {
     "elapsed": 66,
     "status": "ok",
     "timestamp": 1718101975574,
     "user": {
      "displayName": "Damian Trilling",
      "userId": "04714671769922729078"
     },
     "user_tz": -120
    },
    "id": "OafZQFKSwG9E",
    "outputId": "1fe0ddbb-c305-4e0c-d8dd-6f0b33680cf6"
   },
   "outputs": [
    {
     "data": {
      "application/vnd.google.colaboratory.intrinsic+json": {
       "type": "string"
      },
      "text/plain": [
       "'[CLS] A large volume of patients ? opinions ? as online doctor reviews ( O ##DR ##s ) ? are available online in order to access , analyze , and improve patients ? perception ##s about the quality of care ; however , this development needs to be explored further . Drawing on the two - factor theory , this paper aims to mine O ##DR ##s to explore the different de ##ter ##mina ##nts of patient satisfaction ( PS ) and patient di ##ssa ##tisfaction ( PD ) toward the United Kingdom healthcare services . This study collects reviews'"
      ]
     },
     "execution_count": 17,
     "metadata": {},
     "output_type": "execute_result"
    }
   ],
   "source": [
    "' '.join(test_encodings[0].tokens[0:100])"
   ]
  },
  {
   "cell_type": "markdown",
   "metadata": {
    "id": "1jmt15FvW8FR"
   },
   "source": [
    "**Examine the training labels after encoding**"
   ]
  },
  {
   "cell_type": "code",
   "execution_count": 18,
   "metadata": {
    "colab": {
     "base_uri": "https://localhost:8080/"
    },
    "executionInfo": {
     "elapsed": 64,
     "status": "ok",
     "timestamp": 1718101975575,
     "user": {
      "displayName": "Damian Trilling",
      "userId": "04714671769922729078"
     },
     "user_tz": -120
    },
    "id": "ciemdVYwwMNz",
    "outputId": "39ca081c-48cb-4bbc-8566-0d17986098fc"
   },
   "outputs": [
    {
     "data": {
      "text/plain": [
       "{0, 1}"
      ]
     },
     "execution_count": 18,
     "metadata": {},
     "output_type": "execute_result"
    }
   ],
   "source": [
    "set(train_labels_encoded)"
   ]
  },
  {
   "cell_type": "markdown",
   "metadata": {
    "id": "UK1Ngb0wXBz9"
   },
   "source": [
    "**Examine the test labels after encoding**"
   ]
  },
  {
   "cell_type": "code",
   "execution_count": 19,
   "metadata": {
    "colab": {
     "base_uri": "https://localhost:8080/"
    },
    "executionInfo": {
     "elapsed": 55,
     "status": "ok",
     "timestamp": 1718101975575,
     "user": {
      "displayName": "Damian Trilling",
      "userId": "04714671769922729078"
     },
     "user_tz": -120
    },
    "id": "TowwulYQwOff",
    "outputId": "cf06d669-fd62-466f-ae34-42a9acce587f"
   },
   "outputs": [
    {
     "data": {
      "text/plain": [
       "{0, 1}"
      ]
     },
     "execution_count": 19,
     "metadata": {},
     "output_type": "execute_result"
    }
   ],
   "source": [
    "set(test_labels_encoded)"
   ]
  },
  {
   "cell_type": "markdown",
   "metadata": {
    "id": "ChcEv01TXI7v"
   },
   "source": [
    "<br><br>\n",
    "\n",
    "## **Create a custom Torch dataset by following these steps:**"
   ]
  },
  {
   "cell_type": "markdown",
   "metadata": {
    "id": "PxWcyj0LXVtY"
   },
   "source": [
    "Here we combine the encoded labels and texts into dataset objects. We use the custom Torch `MyDataSet` class to make a `train_dataset` object from  the `train_encodings` and `train_labels_encoded`. We also make a `val_dataset`, `test_dataset` object from `test_encodings` and `val_encodings`, and `val_labels_encoded` and `test_labels_encoded`.\n"
   ]
  },
  {
   "cell_type": "code",
   "execution_count": 20,
   "metadata": {
    "executionInfo": {
     "elapsed": 45,
     "status": "ok",
     "timestamp": 1718101975575,
     "user": {
      "displayName": "Damian Trilling",
      "userId": "04714671769922729078"
     },
     "user_tz": -120
    },
    "id": "S4VCU-nepnqF"
   },
   "outputs": [],
   "source": [
    "class MyDataset(torch.utils.data.Dataset):\n",
    "    def __init__(self, encodings, labels):\n",
    "        self.encodings = encodings\n",
    "        self.labels = labels\n",
    "\n",
    "    def __getitem__(self, idx):\n",
    "        item = {key: torch.tensor(val[idx]) for key, val in self.encodings.items()}\n",
    "        item['labels'] = torch.tensor(self.labels[idx])\n",
    "        return item\n",
    "\n",
    "    def __len__(self):\n",
    "        return len(self.labels)"
   ]
  },
  {
   "cell_type": "code",
   "execution_count": 21,
   "metadata": {
    "executionInfo": {
     "elapsed": 45,
     "status": "ok",
     "timestamp": 1718101975576,
     "user": {
      "displayName": "Damian Trilling",
      "userId": "04714671769922729078"
     },
     "user_tz": -120
    },
    "id": "xyCFH3XEi4Ng"
   },
   "outputs": [],
   "source": [
    "train_dataset = MyDataset(train_encodings, train_labels_encoded)\n",
    "val_dataset = MyDataset(val_encodings, val_labels_encoded)\n",
    "test_dataset = MyDataset(test_encodings, test_labels_encoded)"
   ]
  },
  {
   "cell_type": "markdown",
   "metadata": {
    "id": "lSoXOmDYYyAK"
   },
   "source": [
    "**Examine a news article in the Torch `training_dataset` after encoding**"
   ]
  },
  {
   "cell_type": "code",
   "execution_count": 22,
   "metadata": {
    "colab": {
     "base_uri": "https://localhost:8080/",
     "height": 122
    },
    "executionInfo": {
     "elapsed": 44,
     "status": "ok",
     "timestamp": 1718101975576,
     "user": {
      "displayName": "Damian Trilling",
      "userId": "04714671769922729078"
     },
     "user_tz": -120
    },
    "id": "DbJerEgC1Qpc",
    "outputId": "1d4c7157-39cc-44d7-f0e7-3d13fb71b0ec"
   },
   "outputs": [
    {
     "data": {
      "application/vnd.google.colaboratory.intrinsic+json": {
       "type": "string"
      },
      "text/plain": [
       "'[CLS] Automatic deception detection is a crucial task that has many applications both in direct physical and in computer - mediated human communication . Our focus is on automatic deception detection in text across cultures . In this context , we view culture through the p ##rism of the individual ##ism / collect ##ivism dimension , and we approximate culture by using country as a pro ##xy . Having as a starting point recent conclusions drawn from the social psychology discipline , we explore if differences in the usage of specific linguistic features of deception across cultures can be confirmed'"
      ]
     },
     "execution_count": 22,
     "metadata": {},
     "output_type": "execute_result"
    }
   ],
   "source": [
    "' '.join(train_dataset.encodings[0].tokens[0:100])"
   ]
  },
  {
   "cell_type": "markdown",
   "metadata": {
    "id": "hq1M2Et4Y3LB"
   },
   "source": [
    "**Examine a news article in the Torch `test_dataset` after encoding**"
   ]
  },
  {
   "cell_type": "code",
   "execution_count": 23,
   "metadata": {
    "colab": {
     "base_uri": "https://localhost:8080/",
     "height": 122
    },
    "executionInfo": {
     "elapsed": 41,
     "status": "ok",
     "timestamp": 1718101975576,
     "user": {
      "displayName": "Damian Trilling",
      "userId": "04714671769922729078"
     },
     "user_tz": -120
    },
    "id": "z65jnjVJ1aVB",
    "outputId": "3d8495b1-2719-492b-b78e-b99d91dd96e9"
   },
   "outputs": [
    {
     "data": {
      "application/vnd.google.colaboratory.intrinsic+json": {
       "type": "string"
      },
      "text/plain": [
       "'[CLS] Public health emerge ##ncies can generate online public opinion on social media platforms such as Wei ##bo . Ex ##ist ##ing studies show that both temporal and spatial factors have an impact on public opinion , topic and sentiment mining of public health emergency micro ##b ##log ##s can realize the monitoring , prediction and guidance of public opinion considering the temporal and spatial factors . Taking the outbreak period of the Delta variant in three different regions of China in 202 ##1 as the research object , this paper constructed a model based on the Late ##nt Di'"
      ]
     },
     "execution_count": 23,
     "metadata": {},
     "output_type": "execute_result"
    }
   ],
   "source": [
    "' '.join(test_dataset.encodings[1].tokens[0:100])"
   ]
  },
  {
   "cell_type": "code",
   "execution_count": 24,
   "metadata": {
    "colab": {
     "base_uri": "https://localhost:8080/"
    },
    "executionInfo": {
     "elapsed": 38,
     "status": "ok",
     "timestamp": 1718101975577,
     "user": {
      "displayName": "Damian Trilling",
      "userId": "04714671769922729078"
     },
     "user_tz": -120
    },
    "id": "PLvLxQ7W05zP",
    "outputId": "3baa1c07-f727-4d9d-ad82-aedd19789616"
   },
   "outputs": [
    {
     "data": {
      "text/plain": [
       "2"
      ]
     },
     "execution_count": 24,
     "metadata": {},
     "output_type": "execute_result"
    }
   ],
   "source": [
    "len(id2label)"
   ]
  },
  {
   "cell_type": "markdown",
   "metadata": {
    "id": "OkVgFcbCqKSu"
   },
   "source": [
    "<br><br>\n",
    "\n",
    "## **Initialize the pre-trained BERT model**"
   ]
  },
  {
   "cell_type": "markdown",
   "metadata": {
    "id": "X2pSuFUVaDhP"
   },
   "source": [
    "We load a pre-trained Dutch BERT model and transfer it to CUDA for efficient computation.\n",
    "\n",
    "**Note**: If you intend to repeat the fine-tuning process after previously executing the subsequent cells, ensure that you re-run this cell to reload the original pre-trained model before commencing the fine-tuning again."
   ]
  },
  {
   "cell_type": "code",
   "execution_count": 25,
   "metadata": {
    "colab": {
     "base_uri": "https://localhost:8080/"
    },
    "executionInfo": {
     "elapsed": 2675,
     "status": "ok",
     "timestamp": 1718101978225,
     "user": {
      "displayName": "Damian Trilling",
      "userId": "04714671769922729078"
     },
     "user_tz": -120
    },
    "id": "a7k75REXp7UJ",
    "outputId": "651c9954-8a6d-4573-f436-c19b645cc0ba"
   },
   "outputs": [
    {
     "name": "stderr",
     "output_type": "stream",
     "text": [
      "Some weights of BertForSequenceClassification were not initialized from the model checkpoint at bert-base-cased and are newly initialized: ['classifier.bias', 'classifier.weight']\n",
      "You should probably TRAIN this model on a down-stream task to be able to use it for predictions and inference.\n"
     ]
    }
   ],
   "source": [
    "from transformers import AutoTokenizer, AutoModelForSequenceClassification\n",
    "model = AutoModelForSequenceClassification.from_pretrained(model_name, num_labels=len(id2label)).to(device_name)"
   ]
  },
  {
   "cell_type": "markdown",
   "metadata": {
    "id": "VRQZuqcAqQNI"
   },
   "source": [
    "<br><br>\n",
    "\n",
    "## **Configure the parameters required for fine-tuning BERT**\n",
    "\n",
    "The following parameters are crucial for fine-tuning BERT and will be specified in the HuggingFace TrainingArguments objects that we will subsequently pass to the HuggingFace Trainer object. While there are numerous other arguments, we'll focus on the fundamental ones and some common pitfalls.\n",
    "\n",
    "When fine-tuning your own model, it's critical to experiment with these parameters to identify the optimal configuration for your specific dataset."
   ]
  },
  {
   "cell_type": "markdown",
   "metadata": {
    "id": "yYOaH9AhbCD_"
   },
   "source": [
    "| Parameter                     | Explanation                                                                                                                          |\n",
    "|-------------------------------|--------------------------------------------------------------------------------------------------------------------------------------|\n",
    "| `num_train_epochs`            | The total number of training epochs. This refers to how many times the entire dataset will be processed. Too many epochs can lead to overfitting.|\n",
    "| `per_device_train_batch_size` | The batch size per device during training.                                                                                           |\n",
    "| `per_device_eval_batch_size`  | The batch size for evaluation.                                                                                                      |\n",
    "| `warmup_steps`                | The number of warmup steps for the learning rate scheduler. A smaller value is recommended for small datasets.                         |\n",
    "| `weight_decay`                | The strength of weight decay, which reduces the size of weights, similar to regularization.                                          |\n",
    "| `output_dir`                  | The directory where the fine-tuned model and configuration files will be saved.                                                     |\n",
    "| `logging_dir`                 | The directory where logs will be stored.                                                                                            |\n",
    "| `logging_steps`               | How often to print logging output. This enables us to terminate training early if the loss is not decreasing.                        |\n",
    "| `evaluation_strategy`         | Evaluates while training so that we can monitor accuracy improvements.                                                              |\n"
   ]
  },
  {
   "cell_type": "markdown",
   "metadata": {
    "id": "8Pb3xtidn-HJ"
   },
   "source": [
    "<br><br>\n",
    "\n",
    "## **Fine-tune the BERT model**"
   ]
  },
  {
   "cell_type": "markdown",
   "metadata": {
    "id": "z_SN_oGLV8Vw"
   },
   "source": [
    "Initially, we define a custom evaluation function that returns the accuracy of the model. However, this function can be modified to return other metrics such as precision, recall, F1 score, or any other desired evaluation metric."
   ]
  },
  {
   "cell_type": "code",
   "execution_count": 26,
   "metadata": {
    "executionInfo": {
     "elapsed": 22,
     "status": "ok",
     "timestamp": 1718101978225,
     "user": {
      "displayName": "Damian Trilling",
      "userId": "04714671769922729078"
     },
     "user_tz": -120
    },
    "id": "pNIt7fcnqUCp"
   },
   "outputs": [],
   "source": [
    "def compute_metrics(eval_pred):\n",
    "    labels = eval_pred.label_ids\n",
    "    preds = eval_pred.predictions.argmax(-1)\n",
    "    acc = accuracy_score(labels, preds)\n",
    "    macro_f1 = f1_score(labels, preds, average='macro', sample_weight=compute_sample_weight('balanced', labels))\n",
    "    return {'accuracy': acc, 'macro_f1': macro_f1}"
   ]
  },
  {
   "cell_type": "markdown",
   "metadata": {
    "id": "g9xl5QLmWsAw"
   },
   "source": [
    "Then we create a HuggingFace `Trainer` object using the `TrainingArguments` object that we created above. We also send our `compute_metrics` function to the `Trainer` object, along with our test and train datasets.\n"
   ]
  },
  {
   "cell_type": "markdown",
   "metadata": {
    "id": "TL-K7Yr005zY"
   },
   "source": [
    "## **optimize your model based on a metric you select**"
   ]
  },
  {
   "cell_type": "code",
   "execution_count": 27,
   "metadata": {
    "executionInfo": {
     "elapsed": 20,
     "status": "ok",
     "timestamp": 1718101978225,
     "user": {
      "displayName": "Damian Trilling",
      "userId": "04714671769922729078"
     },
     "user_tz": -120
    },
    "id": "edUxpnWe05zY"
   },
   "outputs": [],
   "source": [
    "#metric_name = 'macro_f1' # you can chance this for `accuracy` etc, according to the function `compute_metrics`\n",
    "metric_name='f1'"
   ]
  },
  {
   "cell_type": "code",
   "execution_count": 28,
   "metadata": {
    "colab": {
     "base_uri": "https://localhost:8080/"
    },
    "executionInfo": {
     "elapsed": 21,
     "status": "ok",
     "timestamp": 1718101978227,
     "user": {
      "displayName": "Damian Trilling",
      "userId": "04714671769922729078"
     },
     "user_tz": -120
    },
    "id": "o4OnnQjU05zZ",
    "outputId": "134b9f6f-2606-464d-edb3-77d65c9f07f6"
   },
   "outputs": [
    {
     "name": "stderr",
     "output_type": "stream",
     "text": [
      "/usr/local/lib/python3.10/dist-packages/transformers/training_args.py:1474: FutureWarning: `evaluation_strategy` is deprecated and will be removed in version 4.46 of 🤗 Transformers. Use `eval_strategy` instead\n",
      "  warnings.warn(\n"
     ]
    }
   ],
   "source": [
    "# Instantiate an object of the TrainingArguments class with the following parameters:\n",
    "training_args = TrainingArguments(\n",
    "\n",
    "    # Number of training epochs\n",
    "    num_train_epochs=5,\n",
    "\n",
    "    # Batch size for training\n",
    "    per_device_train_batch_size=8,\n",
    "\n",
    "    # Batch size for evaluation\n",
    "    per_device_eval_batch_size=8,\n",
    "\n",
    "    # Learning rate for optimization\n",
    "    learning_rate=5e-5,\n",
    "\n",
    "    # Load the best model at the end of training\n",
    "    load_best_model_at_end=True,\n",
    "\n",
    "    # Metric used for selecting the best model\n",
    "    metric_for_best_model=metric_name,\n",
    "\n",
    "    # Number of warmup steps for the optimizer\n",
    "    warmup_steps=0,\n",
    "\n",
    "    # L2 regularization weight decay\n",
    "    weight_decay=0.01,\n",
    "\n",
    "    # Directory to save the fine-tuned model and configuration files\n",
    "    output_dir='./results',\n",
    "\n",
    "    # Directory to store logs\n",
    "    logging_dir='./logs',\n",
    "\n",
    "    # Log results every n steps\n",
    "    logging_steps=20,\n",
    "\n",
    "    # Strategy for evaluating the model during training\n",
    "    evaluation_strategy='steps',\n",
    ")"
   ]
  },
  {
   "cell_type": "code",
   "execution_count": 29,
   "metadata": {
    "executionInfo": {
     "elapsed": 17,
     "status": "ok",
     "timestamp": 1718101978228,
     "user": {
      "displayName": "Damian Trilling",
      "userId": "04714671769922729078"
     },
     "user_tz": -120
    },
    "id": "6c8CGqCI2SkR"
   },
   "outputs": [],
   "source": [
    "#pip install transformers[torch]"
   ]
  },
  {
   "cell_type": "code",
   "execution_count": 30,
   "metadata": {
    "executionInfo": {
     "elapsed": 16,
     "status": "ok",
     "timestamp": 1718101978228,
     "user": {
      "displayName": "Damian Trilling",
      "userId": "04714671769922729078"
     },
     "user_tz": -120
    },
    "id": "fgc8FS50qV0_"
   },
   "outputs": [],
   "source": [
    "trainer = Trainer(\n",
    "    model=model,# the instantiated 🤗 Transformers model to be trained\n",
    "    args=training_args,                                           # training arguments, defined above\n",
    "    train_dataset=train_dataset,         # training dataset\n",
    "    eval_dataset=val_dataset,           # evaluation dataset (usually a validation set; here we just send our test set)\n",
    "    compute_metrics=compute_metrics      # our custom evaluation function\n",
    ")"
   ]
  },
  {
   "cell_type": "markdown",
   "metadata": {
    "id": "Mo5QVLYjXGCN"
   },
   "source": [
    "Time to finally fine-tune!\n",
    "\n",
    "Be patient; if you've set everything in Colab to use GPUs, then it should only take a minute or two to run, but if you're running on CPU, it can take hours.\n",
    "\n",
    "After every 20 steps (as we specified in the TrainingArguments object), the trainer will output the current state of the model, including the training loss, validation loss, and accuracy (from our `compute_metrics` function).\n",
    "\n",
    "You should see the loss going down and the accuracy going up. If instead they are staying the same or oscillating, you probably need to change the fine-tuning parameters."
   ]
  },
  {
   "cell_type": "code",
   "execution_count": 31,
   "metadata": {
    "colab": {
     "base_uri": "https://localhost:8080/",
     "height": 692
    },
    "executionInfo": {
     "elapsed": 374530,
     "status": "ok",
     "timestamp": 1718102352744,
     "user": {
      "displayName": "Damian Trilling",
      "userId": "04714671769922729078"
     },
     "user_tz": -120
    },
    "id": "W64JwriVqcmk",
    "outputId": "607db625-724b-48f3-b192-d226717b1b76"
   },
   "outputs": [
    {
     "data": {
      "text/html": [
       "\n",
       "    <div>\n",
       "      \n",
       "      <progress value='375' max='375' style='width:300px; height:20px; vertical-align: middle;'></progress>\n",
       "      [375/375 06:10, Epoch 5/5]\n",
       "    </div>\n",
       "    <table border=\"1\" class=\"dataframe\">\n",
       "  <thead>\n",
       " <tr style=\"text-align: left;\">\n",
       "      <th>Step</th>\n",
       "      <th>Training Loss</th>\n",
       "      <th>Validation Loss</th>\n",
       "      <th>Accuracy</th>\n",
       "      <th>Macro F1</th>\n",
       "    </tr>\n",
       "  </thead>\n",
       "  <tbody>\n",
       "    <tr>\n",
       "      <td>20</td>\n",
       "      <td>0.737500</td>\n",
       "      <td>0.683225</td>\n",
       "      <td>0.537313</td>\n",
       "      <td>0.333333</td>\n",
       "    </tr>\n",
       "    <tr>\n",
       "      <td>40</td>\n",
       "      <td>0.682900</td>\n",
       "      <td>0.694426</td>\n",
       "      <td>0.537313</td>\n",
       "      <td>0.333333</td>\n",
       "    </tr>\n",
       "    <tr>\n",
       "      <td>60</td>\n",
       "      <td>0.701300</td>\n",
       "      <td>0.653558</td>\n",
       "      <td>0.606965</td>\n",
       "      <td>0.510239</td>\n",
       "    </tr>\n",
       "    <tr>\n",
       "      <td>80</td>\n",
       "      <td>0.684800</td>\n",
       "      <td>0.791720</td>\n",
       "      <td>0.462687</td>\n",
       "      <td>0.333333</td>\n",
       "    </tr>\n",
       "    <tr>\n",
       "      <td>100</td>\n",
       "      <td>0.704300</td>\n",
       "      <td>0.681894</td>\n",
       "      <td>0.616915</td>\n",
       "      <td>0.549050</td>\n",
       "    </tr>\n",
       "    <tr>\n",
       "      <td>120</td>\n",
       "      <td>0.669600</td>\n",
       "      <td>0.635412</td>\n",
       "      <td>0.646766</td>\n",
       "      <td>0.649381</td>\n",
       "    </tr>\n",
       "    <tr>\n",
       "      <td>140</td>\n",
       "      <td>0.622900</td>\n",
       "      <td>0.595296</td>\n",
       "      <td>0.666667</td>\n",
       "      <td>0.665887</td>\n",
       "    </tr>\n",
       "    <tr>\n",
       "      <td>160</td>\n",
       "      <td>0.590900</td>\n",
       "      <td>0.611189</td>\n",
       "      <td>0.681592</td>\n",
       "      <td>0.665594</td>\n",
       "    </tr>\n",
       "    <tr>\n",
       "      <td>180</td>\n",
       "      <td>0.561200</td>\n",
       "      <td>0.790159</td>\n",
       "      <td>0.636816</td>\n",
       "      <td>0.635785</td>\n",
       "    </tr>\n",
       "    <tr>\n",
       "      <td>200</td>\n",
       "      <td>0.567800</td>\n",
       "      <td>0.703650</td>\n",
       "      <td>0.641791</td>\n",
       "      <td>0.558901</td>\n",
       "    </tr>\n",
       "    <tr>\n",
       "      <td>220</td>\n",
       "      <td>0.503500</td>\n",
       "      <td>0.544769</td>\n",
       "      <td>0.721393</td>\n",
       "      <td>0.696049</td>\n",
       "    </tr>\n",
       "    <tr>\n",
       "      <td>240</td>\n",
       "      <td>0.353000</td>\n",
       "      <td>0.667785</td>\n",
       "      <td>0.701493</td>\n",
       "      <td>0.703882</td>\n",
       "    </tr>\n",
       "    <tr>\n",
       "      <td>260</td>\n",
       "      <td>0.392100</td>\n",
       "      <td>0.756042</td>\n",
       "      <td>0.676617</td>\n",
       "      <td>0.680919</td>\n",
       "    </tr>\n",
       "    <tr>\n",
       "      <td>280</td>\n",
       "      <td>0.286000</td>\n",
       "      <td>0.763415</td>\n",
       "      <td>0.701493</td>\n",
       "      <td>0.703882</td>\n",
       "    </tr>\n",
       "    <tr>\n",
       "      <td>300</td>\n",
       "      <td>0.355000</td>\n",
       "      <td>0.784001</td>\n",
       "      <td>0.726368</td>\n",
       "      <td>0.728033</td>\n",
       "    </tr>\n",
       "    <tr>\n",
       "      <td>320</td>\n",
       "      <td>0.238600</td>\n",
       "      <td>0.883728</td>\n",
       "      <td>0.716418</td>\n",
       "      <td>0.719620</td>\n",
       "    </tr>\n",
       "    <tr>\n",
       "      <td>340</td>\n",
       "      <td>0.249700</td>\n",
       "      <td>0.923226</td>\n",
       "      <td>0.716418</td>\n",
       "      <td>0.715128</td>\n",
       "    </tr>\n",
       "    <tr>\n",
       "      <td>360</td>\n",
       "      <td>0.194000</td>\n",
       "      <td>1.051222</td>\n",
       "      <td>0.701493</td>\n",
       "      <td>0.704377</td>\n",
       "    </tr>\n",
       "  </tbody>\n",
       "</table><p>"
      ],
      "text/plain": [
       "<IPython.core.display.HTML object>"
      ]
     },
     "metadata": {},
     "output_type": "display_data"
    },
    {
     "data": {
      "text/plain": [
       "TrainOutput(global_step=375, training_loss=0.49506867535909016, metrics={'train_runtime': 373.4946, 'train_samples_per_second': 8.032, 'train_steps_per_second': 1.004, 'total_flos': 789333166080000.0, 'train_loss': 0.49506867535909016, 'epoch': 5.0})"
      ]
     },
     "execution_count": 31,
     "metadata": {},
     "output_type": "execute_result"
    }
   ],
   "source": [
    "trainer.train()"
   ]
  },
  {
   "cell_type": "markdown",
   "metadata": {
    "id": "kXeIZ_LFqeps"
   },
   "source": [
    "<br><br>\n",
    "\n",
    "## **Save fine-tuned model**\n",
    "\n",
    "The following cell will save the model and its configuration files to a directory in Colab. To preserve this model for future use, you should download the model to your computer."
   ]
  },
  {
   "cell_type": "code",
   "execution_count": 32,
   "metadata": {
    "executionInfo": {
     "elapsed": 3511,
     "status": "ok",
     "timestamp": 1718102356236,
     "user": {
      "displayName": "Damian Trilling",
      "userId": "04714671769922729078"
     },
     "user_tz": -120
    },
    "id": "kxkDWDfvqeAo"
   },
   "outputs": [],
   "source": [
    "trainer.save_model(save_directory)"
   ]
  },
  {
   "cell_type": "markdown",
   "metadata": {
    "id": "epiLftYkZrzc"
   },
   "source": [
    "(Optional) If you've already fine-tuned and saved the model, you can reload it using the following line. You don't have to run fine-tuning every time you want to evaluate."
   ]
  },
  {
   "cell_type": "code",
   "execution_count": 33,
   "metadata": {
    "executionInfo": {
     "elapsed": 20,
     "status": "ok",
     "timestamp": 1718102356238,
     "user": {
      "displayName": "Damian Trilling",
      "userId": "04714671769922729078"
     },
     "user_tz": -120
    },
    "id": "9A54QySLrO5I"
   },
   "outputs": [],
   "source": [
    "# trainer = AutoModelForSequenceClassification.from_pretrained(save_directory)"
   ]
  },
  {
   "cell_type": "markdown",
   "metadata": {
    "id": "JpzV4hFsLmZ6"
   },
   "source": [
    "<br><br>\n",
    "\n",
    "## **Evaluate fine-tuned model on the validation set**"
   ]
  },
  {
   "cell_type": "markdown",
   "metadata": {
    "id": "-IvfhrBtYYcz"
   },
   "source": [
    "The following function of the `Trainer` object will run the built-in evaluation, including our `compute_metrics` function."
   ]
  },
  {
   "cell_type": "code",
   "execution_count": 34,
   "metadata": {
    "colab": {
     "base_uri": "https://localhost:8080/",
     "height": 159
    },
    "executionInfo": {
     "elapsed": 5463,
     "status": "ok",
     "timestamp": 1718102361686,
     "user": {
      "displayName": "Damian Trilling",
      "userId": "04714671769922729078"
     },
     "user_tz": -120
    },
    "id": "dshtTH0WLtM1",
    "outputId": "d0d51fe4-bfd3-4d1d-9a6f-335e38fb85f4"
   },
   "outputs": [
    {
     "data": {
      "text/html": [
       "\n",
       "    <div>\n",
       "      \n",
       "      <progress value='26' max='26' style='width:300px; height:20px; vertical-align: middle;'></progress>\n",
       "      [26/26 00:05]\n",
       "    </div>\n",
       "    "
      ],
      "text/plain": [
       "<IPython.core.display.HTML object>"
      ]
     },
     "metadata": {},
     "output_type": "display_data"
    },
    {
     "data": {
      "text/plain": [
       "{'eval_loss': 1.0421814918518066,\n",
       " 'eval_accuracy': 0.7064676616915423,\n",
       " 'eval_macro_f1': 0.7086132928607991,\n",
       " 'eval_runtime': 5.4983,\n",
       " 'eval_samples_per_second': 36.556,\n",
       " 'eval_steps_per_second': 4.729,\n",
       " 'epoch': 5.0}"
      ]
     },
     "execution_count": 34,
     "metadata": {},
     "output_type": "execute_result"
    }
   ],
   "source": [
    "trainer.evaluate()"
   ]
  },
  {
   "cell_type": "markdown",
   "metadata": {
    "id": "xyq4acJ405zg"
   },
   "source": [
    "<br><br>\n",
    "\n",
    "## **Evaluate fine-tuned model on the test set**"
   ]
  },
  {
   "cell_type": "markdown",
   "metadata": {
    "id": "ILJGLcCjYhPt"
   },
   "source": [
    "We may desire a more detailed evaluation of the model, hence we extract the predicted labels."
   ]
  },
  {
   "cell_type": "code",
   "execution_count": 35,
   "metadata": {
    "colab": {
     "base_uri": "https://localhost:8080/",
     "height": 17
    },
    "executionInfo": {
     "elapsed": 5227,
     "status": "ok",
     "timestamp": 1718102366895,
     "user": {
      "displayName": "Damian Trilling",
      "userId": "04714671769922729078"
     },
     "user_tz": -120
    },
    "id": "v_E8oVjeLuv2",
    "outputId": "6676a466-75d2-4f1e-aa1b-59728aee09e8"
   },
   "outputs": [
    {
     "data": {
      "text/html": [],
      "text/plain": [
       "<IPython.core.display.HTML object>"
      ]
     },
     "metadata": {},
     "output_type": "display_data"
    }
   ],
   "source": [
    "predicted_results = trainer.predict(test_dataset)"
   ]
  },
  {
   "cell_type": "code",
   "execution_count": 36,
   "metadata": {
    "colab": {
     "base_uri": "https://localhost:8080/"
    },
    "executionInfo": {
     "elapsed": 59,
     "status": "ok",
     "timestamp": 1718102366897,
     "user": {
      "displayName": "Damian Trilling",
      "userId": "04714671769922729078"
     },
     "user_tz": -120
    },
    "id": "WUYGfzczOuJE",
    "outputId": "e3e1e874-8955-49d0-d248-c9930706d670"
   },
   "outputs": [
    {
     "data": {
      "text/plain": [
       "(201, 2)"
      ]
     },
     "execution_count": 36,
     "metadata": {},
     "output_type": "execute_result"
    }
   ],
   "source": [
    "predicted_results.predictions.shape"
   ]
  },
  {
   "cell_type": "code",
   "execution_count": 37,
   "metadata": {
    "executionInfo": {
     "elapsed": 48,
     "status": "ok",
     "timestamp": 1718102366898,
     "user": {
      "displayName": "Damian Trilling",
      "userId": "04714671769922729078"
     },
     "user_tz": -120
    },
    "id": "hqUTa5irLyN8"
   },
   "outputs": [],
   "source": [
    "predicted_labels = predicted_results.predictions.argmax(-1) # Get the highest probability prediction\n",
    "predicted_labels = predicted_labels.flatten().tolist()      # Flatten the predictions into a 1D list\n",
    "predicted_labels = [id2label[l] for l in predicted_labels]  # Convert from integers back to strings for readability"
   ]
  },
  {
   "cell_type": "code",
   "execution_count": 38,
   "metadata": {
    "colab": {
     "base_uri": "https://localhost:8080/"
    },
    "executionInfo": {
     "elapsed": 47,
     "status": "ok",
     "timestamp": 1718102366899,
     "user": {
      "displayName": "Damian Trilling",
      "userId": "04714671769922729078"
     },
     "user_tz": -120
    },
    "id": "Y2jtqnJbPMpu",
    "outputId": "c57f05ff-2eba-4bb7-96bf-1e30b03637bf"
   },
   "outputs": [
    {
     "data": {
      "text/plain": [
       "201"
      ]
     },
     "execution_count": 38,
     "metadata": {},
     "output_type": "execute_result"
    }
   ],
   "source": [
    "len(predicted_labels)"
   ]
  },
  {
   "cell_type": "code",
   "execution_count": 39,
   "metadata": {
    "colab": {
     "base_uri": "https://localhost:8080/"
    },
    "executionInfo": {
     "elapsed": 35,
     "status": "ok",
     "timestamp": 1718102366900,
     "user": {
      "displayName": "Damian Trilling",
      "userId": "04714671769922729078"
     },
     "user_tz": -120
    },
    "id": "qVcMU45fLzli",
    "outputId": "7d1b3848-1e92-41a8-ceee-b87a8f2347a1"
   },
   "outputs": [
    {
     "name": "stdout",
     "output_type": "stream",
     "text": [
      "              precision    recall  f1-score   support\n",
      "\n",
      "           0       0.63      0.78      0.70        80\n",
      "           1       0.83      0.70      0.76       121\n",
      "\n",
      "    accuracy                           0.73       201\n",
      "   macro avg       0.73      0.74      0.73       201\n",
      "weighted avg       0.75      0.73      0.73       201\n",
      "\n"
     ]
    }
   ],
   "source": [
    "print(classification_report(y_test,\n",
    "                            predicted_labels))"
   ]
  },
  {
   "cell_type": "markdown",
   "metadata": {
    "id": "ddk-iKTQF-K3"
   },
   "source": [
    "<br><br>\n",
    "\n",
    "## **Extracting Correct and Incorrect Classifications for Analysis**\n",
    "\n",
    "Now that we have obtained the predicted labels, let's perform some analysis.\n",
    "\n",
    "The fine-tuning and extraction of predicted labels using BERT is now complete. You can use the predicted labels just like you would with any other classification model. Here are some examples.\n",
    "\n",
    "To start, let's print out some example predictions that were correct."
   ]
  },
  {
   "cell_type": "code",
   "execution_count": 40,
   "metadata": {
    "colab": {
     "base_uri": "https://localhost:8080/"
    },
    "executionInfo": {
     "elapsed": 29,
     "status": "ok",
     "timestamp": 1718102366901,
     "user": {
      "displayName": "Damian Trilling",
      "userId": "04714671769922729078"
     },
     "user_tz": -120
    },
    "id": "l7KrvGuZkDAV",
    "outputId": "82eba2fb-bdd4-4ff0-c17c-5617ac6f1cd4"
   },
   "outputs": [
    {
     "name": "stdout",
     "output_type": "stream",
     "text": [
      "LABEL: 1\n",
      "REVIEW TEXT: In recent years, advancements in computer mediated technologies, such as internet, have greatly impa ...\n",
      "\n",
      "LABEL: 1\n",
      "REVIEW TEXT: In this paper, we present CAROL (unConventionAl suRvey methOdoLogy) to collect users' opinions, to a ...\n",
      "\n",
      "LABEL: 0\n",
      "REVIEW TEXT: Twitter is one of the most commonly used social media, especially in Indonesia. People use Twitter s ...\n",
      "\n",
      "LABEL: 0\n",
      "REVIEW TEXT: Social-media services contribute to creating situation awareness, thus offering a snapshot of today' ...\n",
      "\n",
      "LABEL: 1\n",
      "REVIEW TEXT: Opinion rivalry that occurs in social media have an important role in increasing the potential custo ...\n",
      "\n",
      "LABEL: 1\n",
      "REVIEW TEXT: Stock investment application is getting more attention from the public. Nowadays the Internet has an ...\n",
      "\n",
      "LABEL: 0\n",
      "REVIEW TEXT: The role of wearable technology in our daily lives is rapidly growing and many users are cumulativel ...\n",
      "\n",
      "LABEL: 0\n",
      "REVIEW TEXT: For a long time, diabetes and obesity have been considered a menace only in developed countries. Nev ...\n",
      "\n",
      "LABEL: 0\n",
      "REVIEW TEXT: This study investigates the moral dilemmas that arise with incorporating Chat GPT into higher educat ...\n",
      "\n",
      "LABEL: 0\n",
      "REVIEW TEXT: With recent advancements and popularity of social networking forums, millions of people virtually co ...\n",
      "\n",
      "LABEL: 1\n",
      "REVIEW TEXT: Stock Market is becoming a new trend to make money. It is the fastest-growing system which is changi ...\n",
      "\n",
      "LABEL: 1\n",
      "REVIEW TEXT: Online services depend primarily on customer feedback and communications. When this kind of input is ...\n",
      "\n",
      "LABEL: 0\n",
      "REVIEW TEXT: It is a fact that Turks have accepted various belief systems such as Kok Tengri, Totemism, Animism,  ...\n",
      "\n",
      "LABEL: 0\n",
      "REVIEW TEXT: On March 11, 2020, Dr. Tedros Adhanom Ghebreyesus, Director-General of the WHO, pronounced the outbr ...\n",
      "\n",
      "LABEL: 0\n",
      "REVIEW TEXT: This paper1 focuses on the implementation of a debate game using ChatGPT, aiming to investigate the  ...\n",
      "\n"
     ]
    }
   ],
   "source": [
    "for _true_label, _predicted_label, _text in random.sample(list(zip(y_test, predicted_labels, X_test)), 20):\n",
    "  if _true_label == _predicted_label:\n",
    "    print('LABEL:', _true_label)\n",
    "    print('REVIEW TEXT:', _text[:100], '...')\n",
    "    print()"
   ]
  },
  {
   "cell_type": "markdown",
   "metadata": {
    "id": "pW30Z6ynkDPI"
   },
   "source": [
    "Now let's print out some misclassifications."
   ]
  },
  {
   "cell_type": "code",
   "execution_count": 41,
   "metadata": {
    "colab": {
     "base_uri": "https://localhost:8080/"
    },
    "executionInfo": {
     "elapsed": 450,
     "status": "ok",
     "timestamp": 1718102367331,
     "user": {
      "displayName": "Damian Trilling",
      "userId": "04714671769922729078"
     },
     "user_tz": -120
    },
    "id": "Xmx1RSKDkIpG",
    "outputId": "ea9e5980-9f0a-4823-91cf-402e3cb6a2a2"
   },
   "outputs": [
    {
     "name": "stdout",
     "output_type": "stream",
     "text": [
      "TRUE LABEL: 1\n",
      "PREDICTED LABEL: 0\n",
      "REVIEW TEXT: Sentiment analysis aims to extract subjective information, such as opinions and feelings, from natur ...\n",
      "\n",
      "TRUE LABEL: 0\n",
      "PREDICTED LABEL: 1\n",
      "REVIEW TEXT: As technology continues to evolve, humans tend to follow suit, and currently social media has taken  ...\n",
      "\n",
      "TRUE LABEL: 1\n",
      "PREDICTED LABEL: 0\n",
      "REVIEW TEXT: This research investigates the use of machine learning techniques for sentiment analysis of drug re  ...\n",
      "\n",
      "TRUE LABEL: 1\n",
      "PREDICTED LABEL: 0\n",
      "REVIEW TEXT: Sentiment analysis is an evolving field of study that employs artificial intelligence techniques to  ...\n",
      "\n",
      "TRUE LABEL: 1\n",
      "PREDICTED LABEL: 0\n",
      "REVIEW TEXT: Many researchers in various disciplines have focused on extracting meaningful information from socia ...\n",
      "\n",
      "TRUE LABEL: 1\n",
      "PREDICTED LABEL: 0\n",
      "REVIEW TEXT: Sentiment analysis (also known as opinion mining or emotion AI) refers to the use of natural languag ...\n",
      "\n",
      "TRUE LABEL: 1\n",
      "PREDICTED LABEL: 0\n",
      "REVIEW TEXT: Nowadays, people use social networks extensively to share their opinions about events and entities i ...\n",
      "\n",
      "TRUE LABEL: 1\n",
      "PREDICTED LABEL: 0\n",
      "REVIEW TEXT: In the era of digital world, text is not confined to textbooks or newspapers anymore. People use pla ...\n",
      "\n",
      "TRUE LABEL: 1\n",
      "PREDICTED LABEL: 0\n",
      "REVIEW TEXT: Since its emergence, neuromarketing has generated multiple debates about its uses and misuses, the e ...\n",
      "\n",
      "TRUE LABEL: 1\n",
      "PREDICTED LABEL: 0\n",
      "REVIEW TEXT: Sentiment analysis (SA) and emotion analysis (EA) are commonly used to understand people's feelings  ...\n",
      "\n",
      "TRUE LABEL: 0\n",
      "PREDICTED LABEL: 1\n",
      "REVIEW TEXT: This paper compares the performance of Naive Bayes and SVM classifiers classification based on senti ...\n",
      "\n",
      "TRUE LABEL: 1\n",
      "PREDICTED LABEL: 0\n",
      "REVIEW TEXT: A surge in public opinions mining against various societal topics using publicly available off-the-s ...\n",
      "\n",
      "TRUE LABEL: 0\n",
      "PREDICTED LABEL: 1\n",
      "REVIEW TEXT: Recommender systems are powerful tools that help users to deal with information overload problem. Co ...\n",
      "\n",
      "TRUE LABEL: 1\n",
      "PREDICTED LABEL: 0\n",
      "REVIEW TEXT: Sentiment analysis deals with classifying written texts according to their polarity. Previous resear ...\n",
      "\n",
      "TRUE LABEL: 1\n",
      "PREDICTED LABEL: 0\n",
      "REVIEW TEXT: In this era of Internet and big data, there is billions of news generated every day, and the traditi ...\n",
      "\n",
      "TRUE LABEL: 0\n",
      "PREDICTED LABEL: 1\n",
      "REVIEW TEXT: We propose a scalable Bayesian preference learning method for jointly predicting the preferences of  ...\n",
      "\n",
      "TRUE LABEL: 0\n",
      "PREDICTED LABEL: 1\n",
      "REVIEW TEXT: Many studies show that unsafe behavior is the main cause of construction accidents. Safety education ...\n",
      "\n",
      "TRUE LABEL: 1\n",
      "PREDICTED LABEL: 0\n",
      "REVIEW TEXT: Social media platform, particularly Twitter, is a rich data source that allows monitoring of public  ...\n",
      "\n",
      "TRUE LABEL: 1\n",
      "PREDICTED LABEL: 0\n",
      "REVIEW TEXT: Twitter, as is well known, is one of the most active social media platforms, with millions of tweets ...\n",
      "\n",
      "TRUE LABEL: 0\n",
      "PREDICTED LABEL: 1\n",
      "REVIEW TEXT: Before purchasing a product online, customers often read the reviews posted by people who also broug ...\n",
      "\n"
     ]
    }
   ],
   "source": [
    "for _true_label, _predicted_label, _text in random.sample(list(zip(y_test, predicted_labels, X_test)), 80):\n",
    "  if _true_label != _predicted_label:\n",
    "    print('TRUE LABEL:', _true_label)\n",
    "    print('PREDICTED LABEL:', _predicted_label)\n",
    "    print('REVIEW TEXT:', _text[:100], '...')\n",
    "    print()"
   ]
  },
  {
   "cell_type": "markdown",
   "metadata": {
    "id": "3MZqyFrckJBB"
   },
   "source": [
    "Finally, let's create some heatmaps to examine misclassification patterns. We could use these patterns to think about similarities and differences between genres, according to book reviewers."
   ]
  },
  {
   "cell_type": "code",
   "execution_count": 42,
   "metadata": {
    "colab": {
     "base_uri": "https://localhost:8080/",
     "height": 693
    },
    "executionInfo": {
     "elapsed": 14,
     "status": "ok",
     "timestamp": 1718102367332,
     "user": {
      "displayName": "Damian Trilling",
      "userId": "04714671769922729078"
     },
     "user_tz": -120
    },
    "id": "wSAgS6tvivvz",
    "outputId": "3b2aea6b-c1f2-43f4-b891-4c67963e92ac"
   },
   "outputs": [
    {
     "data": {
      "image/png": "[encoded data removed]",
      "text/plain": [
       "<Figure size 900x700 with 2 Axes>"
      ]
     },
     "metadata": {},
     "output_type": "display_data"
    }
   ],
   "source": [
    "from collections import Counter\n",
    "\n",
    "# Count the number of classifications for each genre pair\n",
    "genre_classifications = Counter(zip(y_test, predicted_labels))\n",
    "\n",
    "# Convert the counts to a DataFrame and pivot to wide format\n",
    "df_wide = pd.DataFrame(genre_classifications, index=['Number of Classifications']).T.reset_index()\n",
    "df_wide.columns = ['True Genre', 'Predicted Genre', 'Number of Classifications']\n",
    "df_wide = df_wide.pivot_table(index='True Genre', columns='Predicted Genre', values='Number of Classifications', fill_value=0)\n",
    "\n",
    "# Plot the results\n",
    "plt.figure(figsize=(9,7))\n",
    "sns.set(style='ticks', font_scale=1.2)\n",
    "sns.heatmap(df_wide, linewidths=1, cmap='Purples')\n",
    "plt.xticks(rotation=45, ha='right')\n",
    "plt.tight_layout()\n",
    "plt.show()\n"
   ]
  },
  {
   "cell_type": "markdown",
   "metadata": {
    "id": "eiukJdYRqyjm"
   },
   "source": [
    "Looks good! We can see that overall, our model is assigning the correct labels for each genre.\n",
    "\n",
    "Now, let's remove the diagonal from the plot to highlight the misclassifications."
   ]
  },
  {
   "cell_type": "code",
   "execution_count": 43,
   "metadata": {
    "colab": {
     "base_uri": "https://localhost:8080/",
     "height": 693
    },
    "executionInfo": {
     "elapsed": 535,
     "status": "ok",
     "timestamp": 1718102367856,
     "user": {
      "displayName": "Damian Trilling",
      "userId": "04714671769922729078"
     },
     "user_tz": -120
    },
    "id": "O7GJQfYxi3ET",
    "outputId": "3b8e6336-8f73-4f0a-9f06-4ea939c79740",
    "scrolled": true
   },
   "outputs": [
    {
     "data": {
      "image/png": "[encoded data removed]",
      "text/plain": [
       "<Figure size 900x700 with 2 Axes>"
      ]
     },
     "metadata": {},
     "output_type": "display_data"
    }
   ],
   "source": [
    "genre_classifications_dict = defaultdict(int)\n",
    "for _true_label, _predicted_label in zip(y_test, predicted_labels):\n",
    "  if _true_label != _predicted_label: # Remove the diagonal to highlight misclassifications\n",
    "    genre_classifications_dict[(_true_label, _predicted_label)] += 1\n",
    "\n",
    "dicts_to_plot = []\n",
    "for (_true_genre, _predicted_genre), _count in genre_classifications_dict.items():\n",
    "  dicts_to_plot.append({'True Genre': _true_genre,\n",
    "                        'Predicted Genre': _predicted_genre,\n",
    "                        'Number of Classifications': _count})\n",
    "\n",
    "df_to_plot = pd.DataFrame(dicts_to_plot)\n",
    "df_wide = df_to_plot.pivot_table(index='True Genre',\n",
    "                                 columns='Predicted Genre',\n",
    "                                 values='Number of Classifications')\n",
    "\n",
    "plt.figure(figsize=(9,7))\n",
    "sns.set(style='ticks', font_scale=1.2)\n",
    "sns.heatmap(df_wide, linewidths=1, cmap='Purples')\n",
    "plt.xticks(rotation=45, ha='right')\n",
    "plt.tight_layout()\n",
    "plt.show()"
   ]
  }
 ],
 "metadata": {
  "accelerator": "GPU",
  "colab": {
   "gpuType": "T4",
   "provenance": [],
   "toc_visible": true
  },
  "kernelspec": {
   "display_name": "Python 3 (ipykernel)",
   "language": "python",
   "name": "python3"
  },
  "language_info": {
   "codemirror_mode": {
    "name": "ipython",
    "version": 3
   },
   "file_extension": ".py",
   "mimetype": "text/x-python",
   "name": "python",
   "nbconvert_exporter": "python",
   "pygments_lexer": "ipython3",
   "version": "3.10.12"
  },
  "vscode": {
   "interpreter": {
    "hash": "5b0d7544f82776c2b902af54887e7cde1aa7d2da4fd982551ffc3948bf7522f2"
   }
  }
 },
 "nbformat": 4,
 "nbformat_minor": 1
}
