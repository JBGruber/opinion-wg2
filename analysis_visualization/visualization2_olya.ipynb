{
  "nbformat": 4,
  "nbformat_minor": 0,
  "metadata": {
    "colab": {
      "provenance": []
    },
    "kernelspec": {
      "name": "python3",
      "display_name": "Python 3"
    },
    "language_info": {
      "name": "python"
    }
  },
  "cells": [
    {
      "cell_type": "code",
      "execution_count": 3,
      "metadata": {
        "id": "19X5nZTuEqBG"
      },
      "outputs": [],
      "source": [
        "import pandas as pd\n",
        "from collections import Counter\n",
        "from urllib.parse import urlparse\n",
        "import matplotlib.pyplot as plt\n",
        "import re"
      ]
    },
    {
      "cell_type": "code",
      "source": [
        "df=pd.read_csv(\"2._gllm-annotation-results.csv\")\n",
        "df.info()"
      ],
      "metadata": {
        "colab": {
          "base_uri": "https://localhost:8080/"
        },
        "id": "QbUcOvyrFBxb",
        "outputId": "ab591305-13b8-4849-a399-c166c4b90993"
      },
      "execution_count": 5,
      "outputs": [
        {
          "output_type": "stream",
          "name": "stdout",
          "text": [
            "<class 'pandas.core.frame.DataFrame'>\n",
            "RangeIndex: 5082 entries, 0 to 5081\n",
            "Data columns (total 5 columns):\n",
            " #   Column    Non-Null Count  Dtype \n",
            "---  ------    --------------  ----- \n",
            " 0   id        5082 non-null   int64 \n",
            " 1   doi       5082 non-null   object\n",
            " 2   file      5082 non-null   object\n",
            " 3   variable  5082 non-null   object\n",
            " 4   result    5082 non-null   object\n",
            "dtypes: int64(1), object(4)\n",
            "memory usage: 198.6+ KB\n"
          ]
        }
      ]
    },
    {
      "cell_type": "code",
      "source": [
        "df[(df.variable==\"Q1_0_Tool-Mentioned\")].result.value_counts()"
      ],
      "metadata": {
        "colab": {
          "base_uri": "https://localhost:8080/",
          "height": 198
        },
        "id": "G_SsTnMgFlN1",
        "outputId": "2890fc8b-fafc-49f2-ce29-8095f3defb8a"
      },
      "execution_count": 6,
      "outputs": [
        {
          "output_type": "execute_result",
          "data": {
            "text/plain": [
              "result\n",
              "Yes             222\n",
              "No (unclear)     20\n",
              "Name: count, dtype: int64"
            ],
            "text/html": [
              "<div>\n",
              "<style scoped>\n",
              "    .dataframe tbody tr th:only-of-type {\n",
              "        vertical-align: middle;\n",
              "    }\n",
              "\n",
              "    .dataframe tbody tr th {\n",
              "        vertical-align: top;\n",
              "    }\n",
              "\n",
              "    .dataframe thead th {\n",
              "        text-align: right;\n",
              "    }\n",
              "</style>\n",
              "<table border=\"1\" class=\"dataframe\">\n",
              "  <thead>\n",
              "    <tr style=\"text-align: right;\">\n",
              "      <th></th>\n",
              "      <th>count</th>\n",
              "    </tr>\n",
              "    <tr>\n",
              "      <th>result</th>\n",
              "      <th></th>\n",
              "    </tr>\n",
              "  </thead>\n",
              "  <tbody>\n",
              "    <tr>\n",
              "      <th>Yes</th>\n",
              "      <td>222</td>\n",
              "    </tr>\n",
              "    <tr>\n",
              "      <th>No (unclear)</th>\n",
              "      <td>20</td>\n",
              "    </tr>\n",
              "  </tbody>\n",
              "</table>\n",
              "</div><br><label><b>dtype:</b> int64</label>"
            ]
          },
          "metadata": {},
          "execution_count": 6
        }
      ]
    },
    {
      "cell_type": "code",
      "source": [
        "#filter to only those with tools\n",
        "ids=df[(df.variable==\"Q1_0_Tool-Mentioned\")&(df.result==\"Yes\")].id.values\n",
        "df_rel=df[df.id.isin(ids)]\n",
        "df_rel.info()"
      ],
      "metadata": {
        "colab": {
          "base_uri": "https://localhost:8080/"
        },
        "id": "jSMr0rLRFJkD",
        "outputId": "28e2c32d-b08a-47ad-9ab4-9189834b11e1"
      },
      "execution_count": 7,
      "outputs": [
        {
          "output_type": "stream",
          "name": "stdout",
          "text": [
            "<class 'pandas.core.frame.DataFrame'>\n",
            "Index: 4662 entries, 0 to 5081\n",
            "Data columns (total 5 columns):\n",
            " #   Column    Non-Null Count  Dtype \n",
            "---  ------    --------------  ----- \n",
            " 0   id        4662 non-null   int64 \n",
            " 1   doi       4662 non-null   object\n",
            " 2   file      4662 non-null   object\n",
            " 3   variable  4662 non-null   object\n",
            " 4   result    4662 non-null   object\n",
            "dtypes: int64(1), object(4)\n",
            "memory usage: 218.5+ KB\n"
          ]
        }
      ]
    },
    {
      "cell_type": "code",
      "source": [
        "#transform data to feature names stored as column names\n",
        "df_t=df_rel.pivot(index='id', columns='variable', values='result')\n",
        "df_t.info()"
      ],
      "metadata": {
        "colab": {
          "base_uri": "https://localhost:8080/"
        },
        "id": "XReHyz1OJ_BI",
        "outputId": "0fa68662-b45d-4ed4-8c5c-c20665a1573a"
      },
      "execution_count": 8,
      "outputs": [
        {
          "output_type": "stream",
          "name": "stdout",
          "text": [
            "<class 'pandas.core.frame.DataFrame'>\n",
            "Index: 222 entries, 1868 to 12042\n",
            "Data columns (total 21 columns):\n",
            " #   Column                            Non-Null Count  Dtype \n",
            "---  ------                            --------------  ----- \n",
            " 0   Q1_0_Tool-Mentioned               222 non-null    object\n",
            " 1   Q1_1_Tool-Name                    222 non-null    object\n",
            " 2   Q1_2_Tool-Link                    222 non-null    object\n",
            " 3   Q1_3_Tool-Reference               222 non-null    object\n",
            " 4   Q2_0_Tool-Mentioned               222 non-null    object\n",
            " 5   Q2_1_Tool-Name                    222 non-null    object\n",
            " 6   Q2_2_Tool-Link                    222 non-null    object\n",
            " 7   Q2_3_Tool-Reference               222 non-null    object\n",
            " 8   Q3_1_Approach                     222 non-null    object\n",
            " 9   Q3_2_Target-specific-Measurement  222 non-null    object\n",
            " 10  Q3_3_Validation                   222 non-null    object\n",
            " 11  Q4_1_Opinion-Evaluation           222 non-null    object\n",
            " 12  Q4_2_Opinion-Target               222 non-null    object\n",
            " 13  Q5_0_Data-Mentioned               222 non-null    object\n",
            " 14  Q5_1_Data-Source                  222 non-null    object\n",
            " 15  Q5_2_Data-Language                222 non-null    object\n",
            " 16  Q5_3_Data-Country                 222 non-null    object\n",
            " 17  Q5_4_Dataset-Name                 222 non-null    object\n",
            " 18  Q5_5_Other-Dataset-Name           222 non-null    object\n",
            " 19  Q5_6_Dataset-Link                 222 non-null    object\n",
            " 20  Q5_7_Dataset-Reference            222 non-null    object\n",
            "dtypes: object(21)\n",
            "memory usage: 38.2+ KB\n"
          ]
        }
      ]
    },
    {
      "cell_type": "code",
      "source": [
        "#explore links to Tools\n",
        "print(\"No link at all in the paper:\",len(df_t[df_t[\"Q1_2_Tool-Link\"]==\"-\"]),\" papers\")\n",
        "links=df_t[df_t[\"Q1_2_Tool-Link\"]!=\"-\"][\"Q1_2_Tool-Link\"].values\n",
        "link_list = [t.lower().split('; ') for t in links]\n",
        "new_link_list=[]\n",
        "count_empthy=0\n",
        "for i in link_list:\n",
        "  for j in i:\n",
        "    if j!=\"-\":\n",
        "      new_link_list.append(j)\n",
        "    else:\n",
        "      count_empthy=count_empthy+1\n",
        "print (\"No link also for some of used tools:\",count_empthy, \"which were in 18 papers\")#which were in 18 papers\n",
        "#dict_of_links = Counter(x for xs in link_list for x in set(xs))\n",
        "#dict_of_links.most_common()\n",
        "Counter(new_link_list).most_common()[:10]"
      ],
      "metadata": {
        "colab": {
          "base_uri": "https://localhost:8080/"
        },
        "id": "P7RrfpbGLCQE",
        "outputId": "e021032e-c285-4bf2-a47f-23caed13719c"
      },
      "execution_count": 9,
      "outputs": [
        {
          "output_type": "stream",
          "name": "stdout",
          "text": [
            "No link at all in the paper: 127  papers\n",
            "No link also for some of used tools: 32 which were in 18 papers\n"
          ]
        },
        {
          "output_type": "execute_result",
          "data": {
            "text/plain": [
              "[('https://github.com/google-research/bert', 5),\n",
              " ('https://www.nltk.org/', 5),\n",
              " ('https://code.google.com/archive/p/word2vec/', 5),\n",
              " ('https://nlp.stanford.edu/projects/glove/', 4),\n",
              " ('https://fasttext.cc/', 3),\n",
              " ('https://www.cs.waikato.ac.nz/ml/weka/', 3),\n",
              " ('https://github.com/cjhutto/vadersentiment', 2),\n",
              " ('https://textblob.readthedocs.io/en/dev/', 2),\n",
              " ('https://keras.io', 2),\n",
              " ('https://scikit-learn.org/', 2)]"
            ]
          },
          "metadata": {},
          "execution_count": 9
        }
      ]
    },
    {
      "cell_type": "code",
      "source": [
        "#explore subdomains\n",
        "\n",
        "subdomains=[]\n",
        "for i in new_link_list:\n",
        "  #print(urlparse(i))\n",
        "  #>> ParseResult(scheme='http', netloc='github.com', path='/somethings/anything/', params='', query='', fragment='')\n",
        "  subdomains.append(urlparse(i).netloc)\n",
        "Counter(subdomains).most_common()"
      ],
      "metadata": {
        "colab": {
          "base_uri": "https://localhost:8080/"
        },
        "id": "vq_n5FQLPVrj",
        "outputId": "e0f87cad-5608-4c80-a346-d7059809e07b"
      },
      "execution_count": 39,
      "outputs": [
        {
          "output_type": "execute_result",
          "data": {
            "text/plain": [
              "[('github.com', 33),\n",
              " ('nlp.stanford.edu', 9),\n",
              " ('doi.org', 7),\n",
              " ('scikit-learn.org', 6),\n",
              " ('www.nltk.org', 6),\n",
              " ('code.google.com', 6),\n",
              " ('textblob.readthedocs.io', 4),\n",
              " ('huggingface.co', 4),\n",
              " ('keras.io', 3),\n",
              " ('fasttext.cc', 3),\n",
              " ('www.cs.waikato.ac.nz', 3),\n",
              " ('www.kaggle.com', 2),\n",
              " ('spacy.io', 2),\n",
              " ('www.tensorflow.org', 2),\n",
              " ('www.techscience.com', 1),\n",
              " ('aylien.com', 1),\n",
              " ('azure.microsoft.com', 1),\n",
              " ('www.python.org', 1),\n",
              " ('rapidminer.com', 1),\n",
              " ('www.electronjs.org', 1),\n",
              " ('alt.qcri.org', 1),\n",
              " ('arxiv.org', 1),\n",
              " ('dl.acm.org', 1),\n",
              " ('www.cfilt.iitb.ac.in', 1),\n",
              " ('camel.abudhabi.nyu.edu', 1),\n",
              " ('weka.wikispaces.com', 1),\n",
              " ('sentistrength.wlv.ac.uk', 1),\n",
              " ('wtlab.um.ac.ir', 1),\n",
              " ('www.ef.uns.ac.rs', 1),\n",
              " ('ieee-dataport.org', 1),\n",
              " ('corpustext.com', 1),\n",
              " ('medium.com', 1),\n",
              " ('towardsdatascience.com', 1),\n",
              " ('developer.apple.com', 1),\n",
              " ('text-processing.com', 1),\n",
              " ('radimrehurek.com', 1),\n",
              " ('www.cis.uni-muenchen.de', 1),\n",
              " ('weka.sourceforge.io', 1),\n",
              " ('christophm.github.io', 1),\n",
              " ('textblob.readthedocs.org', 1),\n",
              " ('sentiwordnet.isti.cnr.it', 1),\n",
              " ('www.mdpi.com', 1),\n",
              " ('www.knime.com', 1),\n",
              " ('orange.biolab.si', 1),\n",
              " ('developer.twitter.com', 1),\n",
              " ('ieeexplore.ieee.org', 1),\n",
              " ('jmcauley.ucsd.edu', 1),\n",
              " ('ileriteknoloji.net', 1),\n",
              " ('www.tandfonline.com', 1),\n",
              " ('metamap.nlm.nih.gov', 1),\n",
              " ('docs.aylien.com', 1),\n",
              " ('mpqa.cs.pitt.edu', 1),\n",
              " ('www.tweepy.org', 1),\n",
              " ('tech.yandex.com', 1)]"
            ]
          },
          "metadata": {},
          "execution_count": 39
        }
      ]
    },
    {
      "cell_type": "markdown",
      "source": [
        "## Clean Data Source And Approach features"
      ],
      "metadata": {
        "id": "Jz-XXHrcswdg"
      }
    },
    {
      "cell_type": "code",
      "source": [
        "#all raw answers\n",
        "df_t[\"Q5_1_Data-Source\"].value_counts()"
      ],
      "metadata": {
        "colab": {
          "base_uri": "https://localhost:8080/",
          "height": 919
        },
        "id": "DixRusvY3BQP",
        "outputId": "ef72008e-a5b9-4fad-c30e-60b453ec7d5d"
      },
      "execution_count": 41,
      "outputs": [
        {
          "output_type": "execute_result",
          "data": {
            "text/plain": [
              "Q5_1_Data-Source\n",
              "Social Media                                                  105\n",
              "Online Reviews                                                 42\n",
              "benchmark dataset                                              29\n",
              "Social Media; Online Reviews                                    9\n",
              "Media                                                           5\n",
              "Other                                                           5\n",
              "Social Media; Media                                             3\n",
              "Online Reviews; Social Media                                    3\n",
              "benchmark dataset; Social Media                                 3\n",
              "Governmental texts                                              3\n",
              "Online News                                                     1\n",
              "benchmark dataset; Online Reviews; Social Media                 1\n",
              "Media; Online Reviews                                           1\n",
              "benchmark dataset (e.g., SemEval2013); Social Media; Media      1\n",
              "Social Media; benchmark dataset (SemEval-2017 Task 4)           1\n",
              "Personal Communication                                          1\n",
              "benchmark dataset; Online Reviews                               1\n",
              "Other (user-generated online text content)                      1\n",
              "Social Media; Media; Governmental texts                         1\n",
              "Other (Educational Portal Comments)                             1\n",
              "Online Reviews; Personal Communication                          1\n",
              "News Headline; Microblog Message                                1\n",
              "Other (Project Gutenberg; sacred-texts.com)                     1\n",
              "Online news outlets                                             1\n",
              "Patient reported outcome measures                               1\n",
              "Name: count, dtype: int64"
            ],
            "text/html": [
              "<div>\n",
              "<style scoped>\n",
              "    .dataframe tbody tr th:only-of-type {\n",
              "        vertical-align: middle;\n",
              "    }\n",
              "\n",
              "    .dataframe tbody tr th {\n",
              "        vertical-align: top;\n",
              "    }\n",
              "\n",
              "    .dataframe thead th {\n",
              "        text-align: right;\n",
              "    }\n",
              "</style>\n",
              "<table border=\"1\" class=\"dataframe\">\n",
              "  <thead>\n",
              "    <tr style=\"text-align: right;\">\n",
              "      <th></th>\n",
              "      <th>count</th>\n",
              "    </tr>\n",
              "    <tr>\n",
              "      <th>Q5_1_Data-Source</th>\n",
              "      <th></th>\n",
              "    </tr>\n",
              "  </thead>\n",
              "  <tbody>\n",
              "    <tr>\n",
              "      <th>Social Media</th>\n",
              "      <td>105</td>\n",
              "    </tr>\n",
              "    <tr>\n",
              "      <th>Online Reviews</th>\n",
              "      <td>42</td>\n",
              "    </tr>\n",
              "    <tr>\n",
              "      <th>benchmark dataset</th>\n",
              "      <td>29</td>\n",
              "    </tr>\n",
              "    <tr>\n",
              "      <th>Social Media; Online Reviews</th>\n",
              "      <td>9</td>\n",
              "    </tr>\n",
              "    <tr>\n",
              "      <th>Media</th>\n",
              "      <td>5</td>\n",
              "    </tr>\n",
              "    <tr>\n",
              "      <th>Other</th>\n",
              "      <td>5</td>\n",
              "    </tr>\n",
              "    <tr>\n",
              "      <th>Social Media; Media</th>\n",
              "      <td>3</td>\n",
              "    </tr>\n",
              "    <tr>\n",
              "      <th>Online Reviews; Social Media</th>\n",
              "      <td>3</td>\n",
              "    </tr>\n",
              "    <tr>\n",
              "      <th>benchmark dataset; Social Media</th>\n",
              "      <td>3</td>\n",
              "    </tr>\n",
              "    <tr>\n",
              "      <th>Governmental texts</th>\n",
              "      <td>3</td>\n",
              "    </tr>\n",
              "    <tr>\n",
              "      <th>Online News</th>\n",
              "      <td>1</td>\n",
              "    </tr>\n",
              "    <tr>\n",
              "      <th>benchmark dataset; Online Reviews; Social Media</th>\n",
              "      <td>1</td>\n",
              "    </tr>\n",
              "    <tr>\n",
              "      <th>Media; Online Reviews</th>\n",
              "      <td>1</td>\n",
              "    </tr>\n",
              "    <tr>\n",
              "      <th>benchmark dataset (e.g., SemEval2013); Social Media; Media</th>\n",
              "      <td>1</td>\n",
              "    </tr>\n",
              "    <tr>\n",
              "      <th>Social Media; benchmark dataset (SemEval-2017 Task 4)</th>\n",
              "      <td>1</td>\n",
              "    </tr>\n",
              "    <tr>\n",
              "      <th>Personal Communication</th>\n",
              "      <td>1</td>\n",
              "    </tr>\n",
              "    <tr>\n",
              "      <th>benchmark dataset; Online Reviews</th>\n",
              "      <td>1</td>\n",
              "    </tr>\n",
              "    <tr>\n",
              "      <th>Other (user-generated online text content)</th>\n",
              "      <td>1</td>\n",
              "    </tr>\n",
              "    <tr>\n",
              "      <th>Social Media; Media; Governmental texts</th>\n",
              "      <td>1</td>\n",
              "    </tr>\n",
              "    <tr>\n",
              "      <th>Other (Educational Portal Comments)</th>\n",
              "      <td>1</td>\n",
              "    </tr>\n",
              "    <tr>\n",
              "      <th>Online Reviews; Personal Communication</th>\n",
              "      <td>1</td>\n",
              "    </tr>\n",
              "    <tr>\n",
              "      <th>News Headline; Microblog Message</th>\n",
              "      <td>1</td>\n",
              "    </tr>\n",
              "    <tr>\n",
              "      <th>Other (Project Gutenberg; sacred-texts.com)</th>\n",
              "      <td>1</td>\n",
              "    </tr>\n",
              "    <tr>\n",
              "      <th>Online news outlets</th>\n",
              "      <td>1</td>\n",
              "    </tr>\n",
              "    <tr>\n",
              "      <th>Patient reported outcome measures</th>\n",
              "      <td>1</td>\n",
              "    </tr>\n",
              "  </tbody>\n",
              "</table>\n",
              "</div><br><label><b>dtype:</b> int64</label>"
            ]
          },
          "metadata": {},
          "execution_count": 41
        }
      ]
    },
    {
      "cell_type": "code",
      "source": [
        "#clean the values of Data Source\n",
        "df_t=df_rel.pivot(index='id', columns='variable', values='result')\n",
        "\n",
        "clean_dict_source={\"online news\": \"media\",\n",
        "                   re.escape(\" (e.g., semeval2013)\"): \"\",\n",
        "                   re.escape(\" (semeval-2017 task 4)\"): \"\",\n",
        "                   \"microblog message\":\"social media\",\n",
        "                   re.escape(\"media outlets\"):\"media\",\n",
        "                   \"news headline\": \"media\",\n",
        "                   \"online news outlets\":\"media\",\n",
        "                   \"patient reported outcome measures\":\"other (patient reported outcome measures)\"}\n",
        "df_t.loc[:,\"Q5_1_Data-Source\"]=df_t['Q5_1_Data-Source'].str.lower().replace(clean_dict_source, regex=True)\n",
        "\n",
        "#add column \"Q5_1_Data-Source_Other\" where the naming of Other data Source are stored\n",
        "df_t.loc[:,\"Q5_1_Data-Source_Other\"]=df_t['Q5_1_Data-Source'].apply(lambda x: re.search(r'\\((.*?)\\)',\n",
        "                                                                                        x).group(1) if \"other (\" in x else \"-\")\n",
        "df_t.loc[:,\"Q5_1_Data-Source\"]=df_t[\"Q5_1_Data-Source\"].str.replace(r'\\s+\\([^()]*\\)$', '', regex=True)\n",
        "\n",
        "df_t.loc[:,\"Q5_1_Data-Source\"]=df_t[\"Q5_1_Data-Source\"].str.replace(\"media outlets\",\"media\")"
      ],
      "metadata": {
        "id": "djqzbgKUg8v4"
      },
      "execution_count": 25,
      "outputs": []
    },
    {
      "cell_type": "code",
      "source": [
        "df_t[\"Q5_1_Data-Source\"].unique()"
      ],
      "metadata": {
        "colab": {
          "base_uri": "https://localhost:8080/"
        },
        "id": "b63GlsmXA1Fh",
        "outputId": "9c4ec1d5-f13b-4c6b-9798-31bb72cc4931"
      },
      "execution_count": 26,
      "outputs": [
        {
          "output_type": "execute_result",
          "data": {
            "text/plain": [
              "array(['social media', 'online reviews', 'social media; online reviews',\n",
              "       'benchmark dataset', 'media', 'other', 'governmental texts',\n",
              "       'social media; benchmark dataset',\n",
              "       'benchmark dataset; social media; media',\n",
              "       'benchmark dataset; online reviews; social media',\n",
              "       'media; online reviews', 'benchmark dataset; social media',\n",
              "       'online reviews; social media', 'personal communication',\n",
              "       'benchmark dataset; online reviews',\n",
              "       'social media; media; governmental texts', 'social media; media',\n",
              "       'online reviews; personal communication', 'media; social media'],\n",
              "      dtype=object)"
            ]
          },
          "metadata": {},
          "execution_count": 26
        }
      ]
    },
    {
      "cell_type": "code",
      "source": [
        "#clean values of Approach\n",
        "#\n",
        "##df[df.id==11891]#11891 and 11833 were checked and their Approach was modified\n",
        "#paper 11833 has \"machine learning\" in the list of appriaches-> since \"classic supervised machine learning\" was already mentioned, the former one was removed\n",
        "#paper 11891 has \"word embedding\" -> modified to \"deep learning/embeddings, transformers etc\"\n",
        "clean_dict_approach={\"lexicon based approach\":\"dictionaries\",\n",
        "                     \"hybrid approach\":\"other or multiple\",\n",
        "                     re.escape(\"lexicon-based methods\"):\"dictionaries\",\n",
        "                     re.escape(\"lexicon-based\"):\"dictionaries\",\n",
        "                     \"; supervised machine learning\":\"; classic supervised machine learning\",\n",
        "                     \"lexicons\":\"dictionaries\",\n",
        "                     \"lexicon based\":\"dictionaries\",\n",
        "                     \"lexical approach\":\"dictionaries\",\n",
        "                     \"word embedding\":\"deep learning/embeddings, transformers etc\",\n",
        "                     \"; machine learning;\":\";\"}\n",
        "df_t.loc[:,\"Q3_1_Approach\"]=df_t['Q3_1_Approach'].str.lower().replace(clean_dict_approach, regex=True)\n",
        "df_t.Q3_1_Approach.unique()\n",
        "#check papers -> Word Embedding,  Machine Learning"
      ],
      "metadata": {
        "colab": {
          "base_uri": "https://localhost:8080/"
        },
        "id": "2xtxstBBDQon",
        "outputId": "caf11d36-4745-461c-82e9-b3386bbdd3e1"
      },
      "execution_count": 30,
      "outputs": [
        {
          "output_type": "execute_result",
          "data": {
            "text/plain": [
              "array(['deep learning/embeddings, transformers etc',\n",
              "       'classic supervised machine learning',\n",
              "       'classic unsupervised machine learning',\n",
              "       'classic supervised machine learning; deep learning/embeddings, transformers etc',\n",
              "       'dictionaries; classic supervised machine learning',\n",
              "       'deep learning/embeddings, transformers etc; classic supervised machine learning',\n",
              "       'classic supervised machine learning; classic unsupervised machine learning; deep learning/embeddings, transformers etc',\n",
              "       'classic supervised machine learning; classic unsupervised machine learning',\n",
              "       'deep learning/embeddings, transformers etc; classic unsupervised machine learning',\n",
              "       'classic supervised machine learning; dictionaries',\n",
              "       'classic supervised machine learning; dictionaries; other or multiple'],\n",
              "      dtype=object)"
            ]
          },
          "metadata": {},
          "execution_count": 30
        }
      ]
    },
    {
      "cell_type": "markdown",
      "source": [
        "# Plot cleaned values"
      ],
      "metadata": {
        "id": "G6qtWDWf0ogh"
      }
    },
    {
      "cell_type": "code",
      "source": [
        "\n",
        "#===========approach\n",
        "#Answers:\n",
        "#-Dictionaries\n",
        "#-Classic Supervised Machine Learning (i.e., usually bag-of-words pre-processing, no deep learning or transformers)\n",
        "#-Classic Unsupervised Machine Learning (e.g., topic modeling)\n",
        "#-Deep learning/Embeddings, Transformers etc\n",
        "#-Proprietary and unknown to us (ie a business secret)\n",
        "#-Unclear\n",
        "#-Other or multiple (leads to write in question)\n",
        "\n",
        "approach=df_t.Q3_1_Approach.values#_counts()\n",
        "approach_list = [t.lower().split('; ') for t in approach]\n",
        "dict_of_approach = Counter(x for xs in approach_list for x in set(xs))\n",
        "#dict_of_approach.most_common()\n",
        "\n",
        "\n",
        "plt.bar(dict_of_approach.keys(), dict_of_approach.values())\n",
        "plt.xticks(rotation=45, ha='right')\n",
        "plt.ylabel(\"Approach\")\n",
        "plt.show()\n",
        "#==========source\n",
        "#Answers:\n",
        "#-benchmark dataset (e.g., SemEval2013)\n",
        "#-Social Media\n",
        "#-Media\n",
        "#-Governmental texts\n",
        "#-Online Reviews\n",
        "#-Personal Communication (e.g., emails, messenger texts)\n",
        "#-Other (write in)\n",
        "\n",
        "source=df_t[\"Q5_1_Data-Source\"].values#_counts()\n",
        "source_list = [t.lower().split('; ') for t in source]\n",
        "dict_of_source = Counter(x for xs in source_list for x in set(xs))\n",
        "#dict_of_source.most_common()\n",
        "\n",
        "plt.bar(dict_of_source.keys(), dict_of_source.values())\n",
        "plt.xticks(rotation=45, ha='right')\n",
        "plt.ylabel(\"Data Source\")\n",
        "plt.show()\n",
        "\n",
        "\n",
        "#language,country - small adjusements needed\n",
        "\n",
        "\n"
      ],
      "metadata": {
        "colab": {
          "base_uri": "https://localhost:8080/",
          "height": 1000
        },
        "id": "80DV3DxqYYI5",
        "outputId": "b07a94b6-7803-4dd3-a3f3-f211225ae3f8"
      },
      "execution_count": 33,
      "outputs": [
        {
          "output_type": "display_data",
          "data": {
            "text/plain": [
              "<Figure size 640x480 with 1 Axes>"
            ],
            "image/png": "[encoded data removed]"
          },
          "metadata": {}
        },
        {
          "output_type": "display_data",
          "data": {
            "text/plain": [
              "<Figure size 640x480 with 1 Axes>"
            ],
            "image/png": "[encoded data removed]"
          },
          "metadata": {}
        }
      ]
    },
    {
      "cell_type": "code",
      "source": [
        "#cleaned Approach and Data Source\n",
        "# added column\n",
        "df_t.to_csv(\"2._gllm-annotation-results_values.csv\")"
      ],
      "metadata": {
        "id": "D_kt4r_50v-_"
      },
      "execution_count": 34,
      "outputs": []
    }
  ]
}